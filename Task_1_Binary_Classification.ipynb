{
 "cells": [
  {
   "cell_type": "code",
   "execution_count": 1,
   "id": "510fba96",
   "metadata": {
    "scrolled": true
   },
   "outputs": [
    {
     "data": {
      "text/html": [
       "<div>\n",
       "<style scoped>\n",
       "    .dataframe tbody tr th:only-of-type {\n",
       "        vertical-align: middle;\n",
       "    }\n",
       "\n",
       "    .dataframe tbody tr th {\n",
       "        vertical-align: top;\n",
       "    }\n",
       "\n",
       "    .dataframe thead th {\n",
       "        text-align: right;\n",
       "    }\n",
       "</style>\n",
       "<table border=\"1\" class=\"dataframe\">\n",
       "  <thead>\n",
       "    <tr style=\"text-align: right;\">\n",
       "      <th></th>\n",
       "      <th>BIB</th>\n",
       "      <th>COD</th>\n",
       "      <th>ERG</th>\n",
       "      <th>FAN</th>\n",
       "      <th>GJAH</th>\n",
       "      <th>LUK</th>\n",
       "      <th>MYR</th>\n",
       "      <th>NUS</th>\n",
       "      <th>PKD</th>\n",
       "      <th>RAS</th>\n",
       "      <th>id</th>\n",
       "      <th>SIS</th>\n",
       "      <th>TOK</th>\n",
       "      <th>UIN</th>\n",
       "      <th>VOL</th>\n",
       "      <th>WET</th>\n",
       "      <th>KAT</th>\n",
       "      <th>XIN</th>\n",
       "      <th>Class</th>\n",
       "      <th>id</th>\n",
       "    </tr>\n",
       "  </thead>\n",
       "  <tbody>\n",
       "    <tr>\n",
       "      <th>0</th>\n",
       "      <td>160</td>\n",
       "      <td>iii</td>\n",
       "      <td>www</td>\n",
       "      <td>80.0</td>\n",
       "      <td>iii</td>\n",
       "      <td>5.0</td>\n",
       "      <td>eee</td>\n",
       "      <td>800000.0</td>\n",
       "      <td>xxx</td>\n",
       "      <td>t</td>\n",
       "      <td>0</td>\n",
       "      <td>1.750</td>\n",
       "      <td>t</td>\n",
       "      <td>17.92</td>\n",
       "      <td>f</td>\n",
       "      <td>1</td>\n",
       "      <td>ccc</td>\n",
       "      <td>t</td>\n",
       "      <td>n</td>\n",
       "      <td>0</td>\n",
       "    </tr>\n",
       "    <tr>\n",
       "      <th>1</th>\n",
       "      <td>153</td>\n",
       "      <td>uuu</td>\n",
       "      <td>aaa</td>\n",
       "      <td>200.0</td>\n",
       "      <td>rrr</td>\n",
       "      <td>0.0</td>\n",
       "      <td>mmm</td>\n",
       "      <td>2000000.0</td>\n",
       "      <td>xxx</td>\n",
       "      <td>NaN</td>\n",
       "      <td>1</td>\n",
       "      <td>0.290</td>\n",
       "      <td>f</td>\n",
       "      <td>16.92</td>\n",
       "      <td>f</td>\n",
       "      <td>0</td>\n",
       "      <td>ddd</td>\n",
       "      <td>f</td>\n",
       "      <td>n</td>\n",
       "      <td>1</td>\n",
       "    </tr>\n",
       "    <tr>\n",
       "      <th>2</th>\n",
       "      <td>5</td>\n",
       "      <td>iii</td>\n",
       "      <td>www</td>\n",
       "      <td>96.0</td>\n",
       "      <td>iii</td>\n",
       "      <td>19.0</td>\n",
       "      <td>hh</td>\n",
       "      <td>960000.0</td>\n",
       "      <td>hh</td>\n",
       "      <td>t</td>\n",
       "      <td>2</td>\n",
       "      <td>0.000</td>\n",
       "      <td>f</td>\n",
       "      <td>31.25</td>\n",
       "      <td>f</td>\n",
       "      <td>1</td>\n",
       "      <td>ddd</td>\n",
       "      <td>t</td>\n",
       "      <td>n</td>\n",
       "      <td>2</td>\n",
       "    </tr>\n",
       "    <tr>\n",
       "      <th>3</th>\n",
       "      <td>9</td>\n",
       "      <td>iii</td>\n",
       "      <td>www</td>\n",
       "      <td>0.0</td>\n",
       "      <td>iii</td>\n",
       "      <td>120.0</td>\n",
       "      <td>kkk</td>\n",
       "      <td>0.0</td>\n",
       "      <td>qqq</td>\n",
       "      <td>NaN</td>\n",
       "      <td>3</td>\n",
       "      <td>0.335</td>\n",
       "      <td>f</td>\n",
       "      <td>48.17</td>\n",
       "      <td>f</td>\n",
       "      <td>0</td>\n",
       "      <td>ccc</td>\n",
       "      <td>f</td>\n",
       "      <td>n</td>\n",
       "      <td>3</td>\n",
       "    </tr>\n",
       "    <tr>\n",
       "      <th>4</th>\n",
       "      <td>40</td>\n",
       "      <td>iii</td>\n",
       "      <td>www</td>\n",
       "      <td>232.0</td>\n",
       "      <td>iii</td>\n",
       "      <td>0.0</td>\n",
       "      <td>mmm</td>\n",
       "      <td>2320000.0</td>\n",
       "      <td>xxx</td>\n",
       "      <td>f</td>\n",
       "      <td>4</td>\n",
       "      <td>0.500</td>\n",
       "      <td>t</td>\n",
       "      <td>32.33</td>\n",
       "      <td>f</td>\n",
       "      <td>0</td>\n",
       "      <td>ddd</td>\n",
       "      <td>f</td>\n",
       "      <td>n</td>\n",
       "      <td>4</td>\n",
       "    </tr>\n",
       "  </tbody>\n",
       "</table>\n",
       "</div>"
      ],
      "text/plain": [
       "   BIB  COD  ERG    FAN GJAH    LUK  MYR        NUS  PKD  RAS  id    SIS TOK  \\\n",
       "0  160  iii  www   80.0  iii    5.0  eee   800000.0  xxx    t   0  1.750   t   \n",
       "1  153  uuu  aaa  200.0  rrr    0.0  mmm  2000000.0  xxx  NaN   1  0.290   f   \n",
       "2    5  iii  www   96.0  iii   19.0   hh   960000.0   hh    t   2  0.000   f   \n",
       "3    9  iii  www    0.0  iii  120.0  kkk        0.0  qqq  NaN   3  0.335   f   \n",
       "4   40  iii  www  232.0  iii    0.0  mmm  2320000.0  xxx    f   4  0.500   t   \n",
       "\n",
       "     UIN VOL  WET  KAT XIN Class  id  \n",
       "0  17.92   f    1  ccc   t     n   0  \n",
       "1  16.92   f    0  ddd   f     n   1  \n",
       "2  31.25   f    1  ddd   t     n   2  \n",
       "3  48.17   f    0  ccc   f     n   3  \n",
       "4  32.33   f    0  ddd   f     n   4  "
      ]
     },
     "execution_count": 1,
     "metadata": {},
     "output_type": "execute_result"
    }
   ],
   "source": [
    "import pandas as pd\n",
    "import numpy as np\n",
    "import seaborn as sns\n",
    "import scipy.stats as stat\n",
    "import pylab \n",
    "import matplotlib.pyplot as plt\n",
    "%matplotlib inline\n",
    "\n",
    "\n",
    "df1 = pd.read_csv(\"Training_part1.csv\", sep=\";\")\n",
    "df2 = pd.read_csv(\"Training_part2.csv\", sep=\";\")\n",
    "df_orginial = pd.concat([df1, df2], axis=1, join=\"inner\") #join two dataframes\n",
    "df_orginial.head()"
   ]
  },
  {
   "cell_type": "code",
   "execution_count": 2,
   "id": "1ed802ab",
   "metadata": {},
   "outputs": [
    {
     "data": {
      "text/html": [
       "<div>\n",
       "<style scoped>\n",
       "    .dataframe tbody tr th:only-of-type {\n",
       "        vertical-align: middle;\n",
       "    }\n",
       "\n",
       "    .dataframe tbody tr th {\n",
       "        vertical-align: top;\n",
       "    }\n",
       "\n",
       "    .dataframe thead th {\n",
       "        text-align: right;\n",
       "    }\n",
       "</style>\n",
       "<table border=\"1\" class=\"dataframe\">\n",
       "  <thead>\n",
       "    <tr style=\"text-align: right;\">\n",
       "      <th></th>\n",
       "      <th>BIB</th>\n",
       "      <th>COD</th>\n",
       "      <th>ERG</th>\n",
       "      <th>FAN</th>\n",
       "      <th>GJAH</th>\n",
       "      <th>LUK</th>\n",
       "      <th>MYR</th>\n",
       "      <th>NUS</th>\n",
       "      <th>PKD</th>\n",
       "      <th>RAS</th>\n",
       "      <th>SIS</th>\n",
       "      <th>TOK</th>\n",
       "      <th>UIN</th>\n",
       "      <th>VOL</th>\n",
       "      <th>WET</th>\n",
       "      <th>KAT</th>\n",
       "      <th>XIN</th>\n",
       "      <th>Class</th>\n",
       "    </tr>\n",
       "  </thead>\n",
       "  <tbody>\n",
       "    <tr>\n",
       "      <th>0</th>\n",
       "      <td>160</td>\n",
       "      <td>iii</td>\n",
       "      <td>www</td>\n",
       "      <td>80.0</td>\n",
       "      <td>iii</td>\n",
       "      <td>5.0</td>\n",
       "      <td>eee</td>\n",
       "      <td>800000.0</td>\n",
       "      <td>xxx</td>\n",
       "      <td>t</td>\n",
       "      <td>1.750</td>\n",
       "      <td>t</td>\n",
       "      <td>17.92</td>\n",
       "      <td>f</td>\n",
       "      <td>1</td>\n",
       "      <td>ccc</td>\n",
       "      <td>t</td>\n",
       "      <td>n</td>\n",
       "    </tr>\n",
       "    <tr>\n",
       "      <th>1</th>\n",
       "      <td>153</td>\n",
       "      <td>uuu</td>\n",
       "      <td>aaa</td>\n",
       "      <td>200.0</td>\n",
       "      <td>rrr</td>\n",
       "      <td>0.0</td>\n",
       "      <td>mmm</td>\n",
       "      <td>2000000.0</td>\n",
       "      <td>xxx</td>\n",
       "      <td>NaN</td>\n",
       "      <td>0.290</td>\n",
       "      <td>f</td>\n",
       "      <td>16.92</td>\n",
       "      <td>f</td>\n",
       "      <td>0</td>\n",
       "      <td>ddd</td>\n",
       "      <td>f</td>\n",
       "      <td>n</td>\n",
       "    </tr>\n",
       "    <tr>\n",
       "      <th>2</th>\n",
       "      <td>5</td>\n",
       "      <td>iii</td>\n",
       "      <td>www</td>\n",
       "      <td>96.0</td>\n",
       "      <td>iii</td>\n",
       "      <td>19.0</td>\n",
       "      <td>hh</td>\n",
       "      <td>960000.0</td>\n",
       "      <td>hh</td>\n",
       "      <td>t</td>\n",
       "      <td>0.000</td>\n",
       "      <td>f</td>\n",
       "      <td>31.25</td>\n",
       "      <td>f</td>\n",
       "      <td>1</td>\n",
       "      <td>ddd</td>\n",
       "      <td>t</td>\n",
       "      <td>n</td>\n",
       "    </tr>\n",
       "    <tr>\n",
       "      <th>3</th>\n",
       "      <td>9</td>\n",
       "      <td>iii</td>\n",
       "      <td>www</td>\n",
       "      <td>0.0</td>\n",
       "      <td>iii</td>\n",
       "      <td>120.0</td>\n",
       "      <td>kkk</td>\n",
       "      <td>0.0</td>\n",
       "      <td>qqq</td>\n",
       "      <td>NaN</td>\n",
       "      <td>0.335</td>\n",
       "      <td>f</td>\n",
       "      <td>48.17</td>\n",
       "      <td>f</td>\n",
       "      <td>0</td>\n",
       "      <td>ccc</td>\n",
       "      <td>f</td>\n",
       "      <td>n</td>\n",
       "    </tr>\n",
       "    <tr>\n",
       "      <th>4</th>\n",
       "      <td>40</td>\n",
       "      <td>iii</td>\n",
       "      <td>www</td>\n",
       "      <td>232.0</td>\n",
       "      <td>iii</td>\n",
       "      <td>0.0</td>\n",
       "      <td>mmm</td>\n",
       "      <td>2320000.0</td>\n",
       "      <td>xxx</td>\n",
       "      <td>f</td>\n",
       "      <td>0.500</td>\n",
       "      <td>t</td>\n",
       "      <td>32.33</td>\n",
       "      <td>f</td>\n",
       "      <td>0</td>\n",
       "      <td>ddd</td>\n",
       "      <td>f</td>\n",
       "      <td>n</td>\n",
       "    </tr>\n",
       "  </tbody>\n",
       "</table>\n",
       "</div>"
      ],
      "text/plain": [
       "   BIB  COD  ERG    FAN GJAH    LUK  MYR        NUS  PKD  RAS    SIS TOK  \\\n",
       "0  160  iii  www   80.0  iii    5.0  eee   800000.0  xxx    t  1.750   t   \n",
       "1  153  uuu  aaa  200.0  rrr    0.0  mmm  2000000.0  xxx  NaN  0.290   f   \n",
       "2    5  iii  www   96.0  iii   19.0   hh   960000.0   hh    t  0.000   f   \n",
       "3    9  iii  www    0.0  iii  120.0  kkk        0.0  qqq  NaN  0.335   f   \n",
       "4   40  iii  www  232.0  iii    0.0  mmm  2320000.0  xxx    f  0.500   t   \n",
       "\n",
       "     UIN VOL  WET  KAT XIN Class  \n",
       "0  17.92   f    1  ccc   t     n  \n",
       "1  16.92   f    0  ddd   f     n  \n",
       "2  31.25   f    1  ddd   t     n  \n",
       "3  48.17   f    0  ccc   f     n  \n",
       "4  32.33   f    0  ddd   f     n  "
      ]
     },
     "execution_count": 2,
     "metadata": {},
     "output_type": "execute_result"
    }
   ],
   "source": [
    "#Drop id column\n",
    "df = df_orginial.drop([\"id\"], axis=1)\n",
    "df.head()"
   ]
  },
  {
   "cell_type": "code",
   "execution_count": 3,
   "id": "7d97f400",
   "metadata": {},
   "outputs": [
    {
     "data": {
      "text/plain": [
       "(4070, 18)"
      ]
     },
     "execution_count": 3,
     "metadata": {},
     "output_type": "execute_result"
    }
   ],
   "source": [
    "df.shape"
   ]
  },
  {
   "cell_type": "code",
   "execution_count": 4,
   "id": "2763080e",
   "metadata": {},
   "outputs": [
    {
     "data": {
      "text/html": [
       "<div>\n",
       "<style scoped>\n",
       "    .dataframe tbody tr th:only-of-type {\n",
       "        vertical-align: middle;\n",
       "    }\n",
       "\n",
       "    .dataframe tbody tr th {\n",
       "        vertical-align: top;\n",
       "    }\n",
       "\n",
       "    .dataframe thead th {\n",
       "        text-align: right;\n",
       "    }\n",
       "</style>\n",
       "<table border=\"1\" class=\"dataframe\">\n",
       "  <thead>\n",
       "    <tr style=\"text-align: right;\">\n",
       "      <th></th>\n",
       "      <th>BIB</th>\n",
       "      <th>FAN</th>\n",
       "      <th>LUK</th>\n",
       "      <th>NUS</th>\n",
       "      <th>SIS</th>\n",
       "      <th>UIN</th>\n",
       "      <th>WET</th>\n",
       "    </tr>\n",
       "  </thead>\n",
       "  <tbody>\n",
       "    <tr>\n",
       "      <th>count</th>\n",
       "      <td>4070.000000</td>\n",
       "      <td>3966.000000</td>\n",
       "      <td>4070.000000</td>\n",
       "      <td>3.966000e+03</td>\n",
       "      <td>4070.000000</td>\n",
       "      <td>4028.000000</td>\n",
       "      <td>4070.000000</td>\n",
       "    </tr>\n",
       "    <tr>\n",
       "      <th>mean</th>\n",
       "      <td>96.270270</td>\n",
       "      <td>162.526979</td>\n",
       "      <td>2322.720393</td>\n",
       "      <td>1.625270e+06</td>\n",
       "      <td>3.412081</td>\n",
       "      <td>32.837974</td>\n",
       "      <td>4.141032</td>\n",
       "    </tr>\n",
       "    <tr>\n",
       "      <th>std</th>\n",
       "      <td>56.131058</td>\n",
       "      <td>154.966817</td>\n",
       "      <td>9104.752893</td>\n",
       "      <td>1.549668e+06</td>\n",
       "      <td>4.322153</td>\n",
       "      <td>12.709425</td>\n",
       "      <td>6.696288</td>\n",
       "    </tr>\n",
       "    <tr>\n",
       "      <th>min</th>\n",
       "      <td>1.000000</td>\n",
       "      <td>0.000000</td>\n",
       "      <td>0.000000</td>\n",
       "      <td>0.000000e+00</td>\n",
       "      <td>0.000000</td>\n",
       "      <td>13.750000</td>\n",
       "      <td>0.000000</td>\n",
       "    </tr>\n",
       "    <tr>\n",
       "      <th>25%</th>\n",
       "      <td>47.000000</td>\n",
       "      <td>0.000000</td>\n",
       "      <td>0.000000</td>\n",
       "      <td>0.000000e+00</td>\n",
       "      <td>0.500000</td>\n",
       "      <td>22.920000</td>\n",
       "      <td>0.000000</td>\n",
       "    </tr>\n",
       "    <tr>\n",
       "      <th>50%</th>\n",
       "      <td>101.000000</td>\n",
       "      <td>120.000000</td>\n",
       "      <td>134.000000</td>\n",
       "      <td>1.200000e+06</td>\n",
       "      <td>1.750000</td>\n",
       "      <td>28.670000</td>\n",
       "      <td>2.000000</td>\n",
       "    </tr>\n",
       "    <tr>\n",
       "      <th>75%</th>\n",
       "      <td>152.000000</td>\n",
       "      <td>280.000000</td>\n",
       "      <td>1000.000000</td>\n",
       "      <td>2.800000e+06</td>\n",
       "      <td>5.000000</td>\n",
       "      <td>40.830000</td>\n",
       "      <td>6.000000</td>\n",
       "    </tr>\n",
       "    <tr>\n",
       "      <th>max</th>\n",
       "      <td>179.000000</td>\n",
       "      <td>1160.000000</td>\n",
       "      <td>100000.000000</td>\n",
       "      <td>1.160000e+07</td>\n",
       "      <td>28.500000</td>\n",
       "      <td>80.250000</td>\n",
       "      <td>67.000000</td>\n",
       "    </tr>\n",
       "  </tbody>\n",
       "</table>\n",
       "</div>"
      ],
      "text/plain": [
       "               BIB          FAN            LUK           NUS          SIS  \\\n",
       "count  4070.000000  3966.000000    4070.000000  3.966000e+03  4070.000000   \n",
       "mean     96.270270   162.526979    2322.720393  1.625270e+06     3.412081   \n",
       "std      56.131058   154.966817    9104.752893  1.549668e+06     4.322153   \n",
       "min       1.000000     0.000000       0.000000  0.000000e+00     0.000000   \n",
       "25%      47.000000     0.000000       0.000000  0.000000e+00     0.500000   \n",
       "50%     101.000000   120.000000     134.000000  1.200000e+06     1.750000   \n",
       "75%     152.000000   280.000000    1000.000000  2.800000e+06     5.000000   \n",
       "max     179.000000  1160.000000  100000.000000  1.160000e+07    28.500000   \n",
       "\n",
       "               UIN          WET  \n",
       "count  4028.000000  4070.000000  \n",
       "mean     32.837974     4.141032  \n",
       "std      12.709425     6.696288  \n",
       "min      13.750000     0.000000  \n",
       "25%      22.920000     0.000000  \n",
       "50%      28.670000     2.000000  \n",
       "75%      40.830000     6.000000  \n",
       "max      80.250000    67.000000  "
      ]
     },
     "execution_count": 4,
     "metadata": {},
     "output_type": "execute_result"
    }
   ],
   "source": [
    "df.describe()"
   ]
  },
  {
   "cell_type": "code",
   "execution_count": 5,
   "id": "598d74ea",
   "metadata": {},
   "outputs": [
    {
     "name": "stdout",
     "output_type": "stream",
     "text": [
      "<class 'pandas.core.frame.DataFrame'>\n",
      "RangeIndex: 4070 entries, 0 to 4069\n",
      "Data columns (total 18 columns):\n",
      " #   Column  Non-Null Count  Dtype  \n",
      "---  ------  --------------  -----  \n",
      " 0   BIB     4070 non-null   int64  \n",
      " 1   COD     4070 non-null   object \n",
      " 2   ERG     4006 non-null   object \n",
      " 3   FAN     3966 non-null   float64\n",
      " 4   GJAH    4006 non-null   object \n",
      " 5   LUK     4070 non-null   float64\n",
      " 6   MYR     4004 non-null   object \n",
      " 7   NUS     3966 non-null   float64\n",
      " 8   PKD     4004 non-null   object \n",
      " 9   RAS     1705 non-null   object \n",
      " 10  SIS     4070 non-null   float64\n",
      " 11  TOK     4070 non-null   object \n",
      " 12  UIN     4028 non-null   float64\n",
      " 13  VOL     4070 non-null   object \n",
      " 14  WET     4070 non-null   int64  \n",
      " 15  KAT     4027 non-null   object \n",
      " 16  XIN     4070 non-null   object \n",
      " 17  Class   4070 non-null   object \n",
      "dtypes: float64(5), int64(2), object(11)\n",
      "memory usage: 572.5+ KB\n"
     ]
    }
   ],
   "source": [
    "df.info()"
   ]
  },
  {
   "cell_type": "markdown",
   "id": "7558ef64",
   "metadata": {},
   "source": [
    "### Check for Class imbalance"
   ]
  },
  {
   "cell_type": "code",
   "execution_count": 6,
   "id": "13397a9d",
   "metadata": {
    "scrolled": true
   },
   "outputs": [
    {
     "name": "stdout",
     "output_type": "stream",
     "text": [
      "y    3764\n",
      "n     306\n",
      "Name: Class, dtype: int64\n"
     ]
    },
    {
     "data": {
      "text/plain": [
       "<AxesSubplot:xlabel='count', ylabel='Class'>"
      ]
     },
     "execution_count": 6,
     "metadata": {},
     "output_type": "execute_result"
    },
    {
     "data": {
      "image/png": "[encoded data removed]",
      "text/plain": [
       "<Figure size 576x216 with 1 Axes>"
      ]
     },
     "metadata": {
      "needs_background": "light"
     },
     "output_type": "display_data"
    }
   ],
   "source": [
    "label = df.Class.value_counts()\n",
    "print(label)\n",
    "\n",
    "plt.figure(figsize=(8, 3))\n",
    "sns.countplot(y=\"Class\", data=df)"
   ]
  },
  {
   "cell_type": "markdown",
   "id": "894607a8",
   "metadata": {},
   "source": [
    "**QUICK NOTES:**\n",
    "\n",
    "* As we can see, this is a skewed class distribution, i.e, imbalanced dataset\n",
    "* F-1 score may be considered as the performance metric since it considers both Type 1 and Type 2 errors\n",
    "* To consider: Oversampling methods (smote or smote_tomek) to impute and increase the rare class label (n) and consider the relevant metrics (Confision Matrix, Accuracy) accordingly"
   ]
  },
  {
   "cell_type": "markdown",
   "id": "ba078765",
   "metadata": {},
   "source": [
    "### Visualize Missing values in the dataframe"
   ]
  },
  {
   "cell_type": "code",
   "execution_count": 7,
   "id": "155d9599",
   "metadata": {},
   "outputs": [
    {
     "data": {
      "text/plain": [
       "<AxesSubplot:>"
      ]
     },
     "execution_count": 7,
     "metadata": {},
     "output_type": "execute_result"
    },
    {
     "data": {
      "image/png": "[encoded data removed]",
      "text/plain": [
       "<Figure size 1440x1080 with 2 Axes>"
      ]
     },
     "metadata": {
      "needs_background": "light"
     },
     "output_type": "display_data"
    }
   ],
   "source": [
    "import missingno\n",
    "missingno.matrix(df, figsize=(20, 15))"
   ]
  },
  {
   "cell_type": "code",
   "execution_count": 8,
   "id": "c2dc20b4",
   "metadata": {
    "scrolled": true
   },
   "outputs": [
    {
     "data": {
      "text/plain": [
       "<Figure size 1440x1440 with 0 Axes>"
      ]
     },
     "execution_count": 8,
     "metadata": {},
     "output_type": "execute_result"
    },
    {
     "data": {
      "image/png": "[encoded data removed]",
      "text/plain": [
       "<Figure size 511.25x360 with 1 Axes>"
      ]
     },
     "metadata": {
      "needs_background": "light"
     },
     "output_type": "display_data"
    },
    {
     "data": {
      "text/plain": [
       "<Figure size 1440x1440 with 0 Axes>"
      ]
     },
     "metadata": {},
     "output_type": "display_data"
    }
   ],
   "source": [
    "sns.displot(df.isna().melt(value_name=\"missing\"), \n",
    "            y=\"variable\", hue=\"missing\", multiple=\"fill\", \n",
    "            aspect=1.25)\n",
    "plt.figure(figsize=(20,20))"
   ]
  },
  {
   "cell_type": "markdown",
   "id": "8c4282f5",
   "metadata": {},
   "source": [
    "# Feature Engineering: Continous Variables\n",
    "* Imputation\n",
    "* Feature Selection\n",
    "* Scaling"
   ]
  },
  {
   "cell_type": "code",
   "execution_count": 9,
   "id": "107a19dc",
   "metadata": {},
   "outputs": [
    {
     "data": {
      "text/html": [
       "<div>\n",
       "<style scoped>\n",
       "    .dataframe tbody tr th:only-of-type {\n",
       "        vertical-align: middle;\n",
       "    }\n",
       "\n",
       "    .dataframe tbody tr th {\n",
       "        vertical-align: top;\n",
       "    }\n",
       "\n",
       "    .dataframe thead th {\n",
       "        text-align: right;\n",
       "    }\n",
       "</style>\n",
       "<table border=\"1\" class=\"dataframe\">\n",
       "  <thead>\n",
       "    <tr style=\"text-align: right;\">\n",
       "      <th></th>\n",
       "      <th>BIB</th>\n",
       "      <th>FAN</th>\n",
       "      <th>LUK</th>\n",
       "      <th>NUS</th>\n",
       "      <th>SIS</th>\n",
       "      <th>UIN</th>\n",
       "      <th>WET</th>\n",
       "    </tr>\n",
       "  </thead>\n",
       "  <tbody>\n",
       "    <tr>\n",
       "      <th>0</th>\n",
       "      <td>160</td>\n",
       "      <td>80.0</td>\n",
       "      <td>5.0</td>\n",
       "      <td>800000.0</td>\n",
       "      <td>1.750</td>\n",
       "      <td>17.92</td>\n",
       "      <td>1</td>\n",
       "    </tr>\n",
       "    <tr>\n",
       "      <th>1</th>\n",
       "      <td>153</td>\n",
       "      <td>200.0</td>\n",
       "      <td>0.0</td>\n",
       "      <td>2000000.0</td>\n",
       "      <td>0.290</td>\n",
       "      <td>16.92</td>\n",
       "      <td>0</td>\n",
       "    </tr>\n",
       "    <tr>\n",
       "      <th>2</th>\n",
       "      <td>5</td>\n",
       "      <td>96.0</td>\n",
       "      <td>19.0</td>\n",
       "      <td>960000.0</td>\n",
       "      <td>0.000</td>\n",
       "      <td>31.25</td>\n",
       "      <td>1</td>\n",
       "    </tr>\n",
       "    <tr>\n",
       "      <th>3</th>\n",
       "      <td>9</td>\n",
       "      <td>0.0</td>\n",
       "      <td>120.0</td>\n",
       "      <td>0.0</td>\n",
       "      <td>0.335</td>\n",
       "      <td>48.17</td>\n",
       "      <td>0</td>\n",
       "    </tr>\n",
       "    <tr>\n",
       "      <th>4</th>\n",
       "      <td>40</td>\n",
       "      <td>232.0</td>\n",
       "      <td>0.0</td>\n",
       "      <td>2320000.0</td>\n",
       "      <td>0.500</td>\n",
       "      <td>32.33</td>\n",
       "      <td>0</td>\n",
       "    </tr>\n",
       "  </tbody>\n",
       "</table>\n",
       "</div>"
      ],
      "text/plain": [
       "   BIB    FAN    LUK        NUS    SIS    UIN  WET\n",
       "0  160   80.0    5.0   800000.0  1.750  17.92    1\n",
       "1  153  200.0    0.0  2000000.0  0.290  16.92    0\n",
       "2    5   96.0   19.0   960000.0  0.000  31.25    1\n",
       "3    9    0.0  120.0        0.0  0.335  48.17    0\n",
       "4   40  232.0    0.0  2320000.0  0.500  32.33    0"
      ]
     },
     "execution_count": 9,
     "metadata": {},
     "output_type": "execute_result"
    }
   ],
   "source": [
    "#select columns containing continous values from the original dataframe df\n",
    "df_num = df.select_dtypes(include=['integer', 'float'])\n",
    "df_num.head()"
   ]
  },
  {
   "cell_type": "code",
   "execution_count": 10,
   "id": "e402decb",
   "metadata": {},
   "outputs": [
    {
     "data": {
      "text/plain": [
       "BIB      0\n",
       "FAN    104\n",
       "LUK      0\n",
       "NUS    104\n",
       "SIS      0\n",
       "UIN     42\n",
       "WET      0\n",
       "dtype: int64"
      ]
     },
     "execution_count": 10,
     "metadata": {},
     "output_type": "execute_result"
    }
   ],
   "source": [
    "df_num.isnull().sum()"
   ]
  },
  {
   "cell_type": "code",
   "execution_count": 11,
   "id": "93bc0cf8",
   "metadata": {},
   "outputs": [
    {
     "data": {
      "text/plain": [
       "<AxesSubplot:>"
      ]
     },
     "execution_count": 11,
     "metadata": {},
     "output_type": "execute_result"
    },
    {
     "data": {
      "image/png": "[encoded data removed]",
      "text/plain": [
       "<Figure size 720x360 with 3 Axes>"
      ]
     },
     "metadata": {
      "needs_background": "light"
     },
     "output_type": "display_data"
    }
   ],
   "source": [
    "#Visualize missing spaces\n",
    "missingno.bar(df_num, figsize=(10, 5))"
   ]
  },
  {
   "cell_type": "markdown",
   "id": "2e8b0ea7",
   "metadata": {},
   "source": [
    "**Quick Notes:** \n",
    "* No major missing values to drop\n",
    "* We will perfrom median imputation to fill in the missing values"
   ]
  },
  {
   "cell_type": "code",
   "execution_count": 12,
   "id": "0d4c2650",
   "metadata": {},
   "outputs": [],
   "source": [
    "#impute with median values\n",
    "df_num['FAN'].fillna(df_num.FAN.median(),inplace=True)\n",
    "df_num['NUS'].fillna(df_num.NUS.median(),inplace=True)\n",
    "df_num['UIN'].fillna(df_num.UIN.median(),inplace=True)\n"
   ]
  },
  {
   "cell_type": "markdown",
   "id": "4fe1eba4",
   "metadata": {},
   "source": [
    "### Feature Selection"
   ]
  },
  {
   "cell_type": "code",
   "execution_count": 13,
   "id": "50c0bd38",
   "metadata": {},
   "outputs": [
    {
     "data": {
      "text/plain": [
       "<AxesSubplot:>"
      ]
     },
     "execution_count": 13,
     "metadata": {},
     "output_type": "execute_result"
    },
    {
     "data": {
      "image/png": "[encoded data removed]",
      "text/plain": [
       "<Figure size 1080x720 with 2 Axes>"
      ]
     },
     "metadata": {
      "needs_background": "light"
     },
     "output_type": "display_data"
    }
   ],
   "source": [
    "#Correlation heatmap\n",
    "corr = df_num.corr()\n",
    "top_features = corr.index\n",
    "plt.figure(figsize=(15,10))\n",
    "sns.heatmap(df_num[top_features].corr(),annot=True)"
   ]
  },
  {
   "cell_type": "code",
   "execution_count": 14,
   "id": "da1877b4",
   "metadata": {},
   "outputs": [],
   "source": [
    "# find and remove correlated features\n",
    "\n",
    "threshold = .9\n",
    "\n",
    "def correlation(dataset, threshold):\n",
    "    col_corr = set()  # Set of all the names of correlated columns\n",
    "    corr_matrix = df_num.corr()\n",
    "    for i in range(len(corr_matrix.columns)):\n",
    "        for j in range(i):\n",
    "            if abs(corr_matrix.iloc[i, j]) > threshold:\n",
    "                colname = corr_matrix.columns[i]  # getting the name of column\n",
    "                col_corr.add(colname)\n",
    "    return col_corr"
   ]
  },
  {
   "cell_type": "code",
   "execution_count": 15,
   "id": "71a0f12f",
   "metadata": {},
   "outputs": [
    {
     "name": "stdout",
     "output_type": "stream",
     "text": [
      "1\n"
     ]
    },
    {
     "data": {
      "text/plain": [
       "{'NUS'}"
      ]
     },
     "execution_count": 15,
     "metadata": {},
     "output_type": "execute_result"
    }
   ],
   "source": [
    "corr_features = correlation(df_num, threshold)\n",
    "print(len(set(corr_features)))\n",
    "corr_features"
   ]
  },
  {
   "cell_type": "code",
   "execution_count": 16,
   "id": "e1dbe7a5",
   "metadata": {
    "scrolled": true
   },
   "outputs": [
    {
     "data": {
      "text/html": [
       "<div>\n",
       "<style scoped>\n",
       "    .dataframe tbody tr th:only-of-type {\n",
       "        vertical-align: middle;\n",
       "    }\n",
       "\n",
       "    .dataframe tbody tr th {\n",
       "        vertical-align: top;\n",
       "    }\n",
       "\n",
       "    .dataframe thead th {\n",
       "        text-align: right;\n",
       "    }\n",
       "</style>\n",
       "<table border=\"1\" class=\"dataframe\">\n",
       "  <thead>\n",
       "    <tr style=\"text-align: right;\">\n",
       "      <th></th>\n",
       "      <th>BIB</th>\n",
       "      <th>FAN</th>\n",
       "      <th>LUK</th>\n",
       "      <th>SIS</th>\n",
       "      <th>UIN</th>\n",
       "      <th>WET</th>\n",
       "    </tr>\n",
       "  </thead>\n",
       "  <tbody>\n",
       "    <tr>\n",
       "      <th>0</th>\n",
       "      <td>160</td>\n",
       "      <td>80.0</td>\n",
       "      <td>5.0</td>\n",
       "      <td>1.750</td>\n",
       "      <td>17.92</td>\n",
       "      <td>1</td>\n",
       "    </tr>\n",
       "    <tr>\n",
       "      <th>1</th>\n",
       "      <td>153</td>\n",
       "      <td>200.0</td>\n",
       "      <td>0.0</td>\n",
       "      <td>0.290</td>\n",
       "      <td>16.92</td>\n",
       "      <td>0</td>\n",
       "    </tr>\n",
       "    <tr>\n",
       "      <th>2</th>\n",
       "      <td>5</td>\n",
       "      <td>96.0</td>\n",
       "      <td>19.0</td>\n",
       "      <td>0.000</td>\n",
       "      <td>31.25</td>\n",
       "      <td>1</td>\n",
       "    </tr>\n",
       "    <tr>\n",
       "      <th>3</th>\n",
       "      <td>9</td>\n",
       "      <td>0.0</td>\n",
       "      <td>120.0</td>\n",
       "      <td>0.335</td>\n",
       "      <td>48.17</td>\n",
       "      <td>0</td>\n",
       "    </tr>\n",
       "    <tr>\n",
       "      <th>4</th>\n",
       "      <td>40</td>\n",
       "      <td>232.0</td>\n",
       "      <td>0.0</td>\n",
       "      <td>0.500</td>\n",
       "      <td>32.33</td>\n",
       "      <td>0</td>\n",
       "    </tr>\n",
       "  </tbody>\n",
       "</table>\n",
       "</div>"
      ],
      "text/plain": [
       "   BIB    FAN    LUK    SIS    UIN  WET\n",
       "0  160   80.0    5.0  1.750  17.92    1\n",
       "1  153  200.0    0.0  0.290  16.92    0\n",
       "2    5   96.0   19.0  0.000  31.25    1\n",
       "3    9    0.0  120.0  0.335  48.17    0\n",
       "4   40  232.0    0.0  0.500  32.33    0"
      ]
     },
     "execution_count": 16,
     "metadata": {},
     "output_type": "execute_result"
    }
   ],
   "source": [
    "#Drop all correlated features\n",
    "df_num = df_num.drop((corr_features), axis=1)\n",
    "df_num.head()"
   ]
  },
  {
   "cell_type": "code",
   "execution_count": 17,
   "id": "265afb8a",
   "metadata": {},
   "outputs": [
    {
     "data": {
      "text/plain": [
       "<AxesSubplot:>"
      ]
     },
     "execution_count": 17,
     "metadata": {},
     "output_type": "execute_result"
    },
    {
     "data": {
      "image/png": "[encoded data removed]",
      "text/plain": [
       "<Figure size 720x720 with 2 Axes>"
      ]
     },
     "metadata": {
      "needs_background": "light"
     },
     "output_type": "display_data"
    }
   ],
   "source": [
    "#Correlation heatmap\n",
    "corr = df_num.corr()\n",
    "top_features = corr.index\n",
    "plt.figure(figsize=(10,10))\n",
    "sns.heatmap(df_num[top_features].corr(),annot=True)"
   ]
  },
  {
   "cell_type": "markdown",
   "id": "52e90b61",
   "metadata": {},
   "source": [
    "**QUICK NOTES**\n",
    "\n",
    "* No Correlation between continous independent features "
   ]
  },
  {
   "cell_type": "markdown",
   "id": "21d35ab3",
   "metadata": {},
   "source": [
    "### Check Distributions "
   ]
  },
  {
   "cell_type": "code",
   "execution_count": 18,
   "id": "4a171d73",
   "metadata": {},
   "outputs": [],
   "source": [
    "#Q-Q plot to check whether feature is guassian or normal distributed\n",
    "def plot_data(df_num,feature):\n",
    "    plt.figure(figsize=(10,6))\n",
    "    plt.subplot(1,2,1)\n",
    "    df_num[feature].hist()\n",
    "    plt.subplot(1,2,2)\n",
    "    stat.probplot(df_num[feature],dist='norm',plot=pylab)\n",
    "    plt.show()"
   ]
  },
  {
   "cell_type": "code",
   "execution_count": 19,
   "id": "9c981692",
   "metadata": {},
   "outputs": [
    {
     "data": {
      "image/png": "[encoded data removed]",
      "text/plain": [
       "<Figure size 720x432 with 2 Axes>"
      ]
     },
     "metadata": {
      "needs_background": "light"
     },
     "output_type": "display_data"
    },
    {
     "data": {
      "image/png": "[encoded data removed]",
      "text/plain": [
       "<Figure size 720x432 with 2 Axes>"
      ]
     },
     "metadata": {
      "needs_background": "light"
     },
     "output_type": "display_data"
    },
    {
     "data": {
      "image/png": "[encoded data removed]",
      "text/plain": [
       "<Figure size 720x432 with 2 Axes>"
      ]
     },
     "metadata": {
      "needs_background": "light"
     },
     "output_type": "display_data"
    },
    {
     "data": {
      "image/png": "[encoded data removed]",
      "text/plain": [
       "<Figure size 720x432 with 2 Axes>"
      ]
     },
     "metadata": {
      "needs_background": "light"
     },
     "output_type": "display_data"
    },
    {
     "data": {
      "image/png": "[encoded data removed]",
      "text/plain": [
       "<Figure size 720x432 with 2 Axes>"
      ]
     },
     "metadata": {
      "needs_background": "light"
     },
     "output_type": "display_data"
    }
   ],
   "source": [
    "plot_data(df,'BIB')\n",
    "plot_data(df,'FAN')\n",
    "plot_data(df,'LUK')\n",
    "plot_data(df,'UIN')\n",
    "plot_data(df,'WET')"
   ]
  },
  {
   "cell_type": "markdown",
   "id": "260fd251",
   "metadata": {},
   "source": [
    "### Check for outliers"
   ]
  },
  {
   "cell_type": "code",
   "execution_count": null,
   "id": "d62ea6db",
   "metadata": {},
   "outputs": [],
   "source": []
  },
  {
   "cell_type": "code",
   "execution_count": 20,
   "id": "ab85fb9a",
   "metadata": {},
   "outputs": [
    {
     "data": {
      "image/png": "[encoded data removed]",
      "text/plain": [
       "<Figure size 864x288 with 1 Axes>"
      ]
     },
     "metadata": {
      "needs_background": "light"
     },
     "output_type": "display_data"
    },
    {
     "data": {
      "image/png": "[encoded data removed]",
      "text/plain": [
       "<Figure size 864x288 with 1 Axes>"
      ]
     },
     "metadata": {
      "needs_background": "light"
     },
     "output_type": "display_data"
    },
    {
     "data": {
      "image/png": "[encoded data removed]",
      "text/plain": [
       "<Figure size 864x288 with 1 Axes>"
      ]
     },
     "metadata": {
      "needs_background": "light"
     },
     "output_type": "display_data"
    },
    {
     "data": {
      "image/png": "[encoded data removed]",
      "text/plain": [
       "<Figure size 864x288 with 1 Axes>"
      ]
     },
     "metadata": {
      "needs_background": "light"
     },
     "output_type": "display_data"
    },
    {
     "data": {
      "image/png": "[encoded data removed]",
      "text/plain": [
       "<Figure size 864x288 with 1 Axes>"
      ]
     },
     "metadata": {
      "needs_background": "light"
     },
     "output_type": "display_data"
    },
    {
     "data": {
      "image/png": "[encoded data removed]",
      "text/plain": [
       "<Figure size 864x288 with 1 Axes>"
      ]
     },
     "metadata": {
      "needs_background": "light"
     },
     "output_type": "display_data"
    }
   ],
   "source": [
    "cat_features = df_num.columns.to_list()\n",
    "for col in cat_features:\n",
    "    sns.catplot(x=col, kind=\"box\", dodge=False, height = 4, aspect = 3, data=df_num, palette=\"Set3\")"
   ]
  },
  {
   "cell_type": "markdown",
   "id": "0d61f6cf",
   "metadata": {},
   "source": [
    "**Note: As we can see there are quite a few outliers, we will scale the datasets using robustscaler library**"
   ]
  },
  {
   "cell_type": "markdown",
   "id": "a872e815",
   "metadata": {},
   "source": [
    "### Feature Scaling"
   ]
  },
  {
   "cell_type": "code",
   "execution_count": 21,
   "id": "66244a69",
   "metadata": {},
   "outputs": [],
   "source": [
    "# from sklearn.preprocessing import StandardScaler\n",
    "# scaler=StandardScaler()\n",
    "# df_num = scaler.fit_transform(df_num)\n",
    "# df_num"
   ]
  },
  {
   "cell_type": "code",
   "execution_count": 22,
   "id": "e696014c",
   "metadata": {},
   "outputs": [],
   "source": [
    "# from sklearn.preprocessing import RobustScaler\n",
    "# scaler = RobustScaler()\n",
    "# df_num = pd.DataFrame(scaler.fit_transform(df_num),columns = df_num.columns)\n",
    "# df_num.head()"
   ]
  },
  {
   "cell_type": "code",
   "execution_count": 23,
   "id": "8c1b5e89",
   "metadata": {},
   "outputs": [
    {
     "data": {
      "text/html": [
       "<div>\n",
       "<style scoped>\n",
       "    .dataframe tbody tr th:only-of-type {\n",
       "        vertical-align: middle;\n",
       "    }\n",
       "\n",
       "    .dataframe tbody tr th {\n",
       "        vertical-align: top;\n",
       "    }\n",
       "\n",
       "    .dataframe thead th {\n",
       "        text-align: right;\n",
       "    }\n",
       "</style>\n",
       "<table border=\"1\" class=\"dataframe\">\n",
       "  <thead>\n",
       "    <tr style=\"text-align: right;\">\n",
       "      <th></th>\n",
       "      <th>BIB</th>\n",
       "      <th>FAN</th>\n",
       "      <th>LUK</th>\n",
       "      <th>SIS</th>\n",
       "      <th>UIN</th>\n",
       "      <th>WET</th>\n",
       "    </tr>\n",
       "  </thead>\n",
       "  <tbody>\n",
       "    <tr>\n",
       "      <th>0</th>\n",
       "      <td>0.893258</td>\n",
       "      <td>0.068966</td>\n",
       "      <td>0.00005</td>\n",
       "      <td>0.061404</td>\n",
       "      <td>0.062707</td>\n",
       "      <td>0.014925</td>\n",
       "    </tr>\n",
       "    <tr>\n",
       "      <th>1</th>\n",
       "      <td>0.853933</td>\n",
       "      <td>0.172414</td>\n",
       "      <td>0.00000</td>\n",
       "      <td>0.010175</td>\n",
       "      <td>0.047669</td>\n",
       "      <td>0.000000</td>\n",
       "    </tr>\n",
       "    <tr>\n",
       "      <th>2</th>\n",
       "      <td>0.022472</td>\n",
       "      <td>0.082759</td>\n",
       "      <td>0.00019</td>\n",
       "      <td>0.000000</td>\n",
       "      <td>0.263158</td>\n",
       "      <td>0.014925</td>\n",
       "    </tr>\n",
       "    <tr>\n",
       "      <th>3</th>\n",
       "      <td>0.044944</td>\n",
       "      <td>0.000000</td>\n",
       "      <td>0.00120</td>\n",
       "      <td>0.011754</td>\n",
       "      <td>0.517594</td>\n",
       "      <td>0.000000</td>\n",
       "    </tr>\n",
       "    <tr>\n",
       "      <th>4</th>\n",
       "      <td>0.219101</td>\n",
       "      <td>0.200000</td>\n",
       "      <td>0.00000</td>\n",
       "      <td>0.017544</td>\n",
       "      <td>0.279398</td>\n",
       "      <td>0.000000</td>\n",
       "    </tr>\n",
       "  </tbody>\n",
       "</table>\n",
       "</div>"
      ],
      "text/plain": [
       "        BIB       FAN      LUK       SIS       UIN       WET\n",
       "0  0.893258  0.068966  0.00005  0.061404  0.062707  0.014925\n",
       "1  0.853933  0.172414  0.00000  0.010175  0.047669  0.000000\n",
       "2  0.022472  0.082759  0.00019  0.000000  0.263158  0.014925\n",
       "3  0.044944  0.000000  0.00120  0.011754  0.517594  0.000000\n",
       "4  0.219101  0.200000  0.00000  0.017544  0.279398  0.000000"
      ]
     },
     "execution_count": 23,
     "metadata": {},
     "output_type": "execute_result"
    }
   ],
   "source": [
    "from sklearn.preprocessing import MinMaxScaler\n",
    "scaler = MinMaxScaler()\n",
    "df_num = pd.DataFrame(scaler.fit_transform(df_num),columns=df_num.columns)\n",
    "df_num.head()"
   ]
  },
  {
   "cell_type": "code",
   "execution_count": null,
   "id": "a360fed8",
   "metadata": {},
   "outputs": [],
   "source": []
  },
  {
   "cell_type": "markdown",
   "id": "37267eab",
   "metadata": {},
   "source": [
    "# Feature Engineering : Categorical Features\n",
    "* Treat Missing values \n",
    "* Encode "
   ]
  },
  {
   "cell_type": "code",
   "execution_count": 24,
   "id": "cfd26862",
   "metadata": {},
   "outputs": [
    {
     "data": {
      "text/html": [
       "<div>\n",
       "<style scoped>\n",
       "    .dataframe tbody tr th:only-of-type {\n",
       "        vertical-align: middle;\n",
       "    }\n",
       "\n",
       "    .dataframe tbody tr th {\n",
       "        vertical-align: top;\n",
       "    }\n",
       "\n",
       "    .dataframe thead th {\n",
       "        text-align: right;\n",
       "    }\n",
       "</style>\n",
       "<table border=\"1\" class=\"dataframe\">\n",
       "  <thead>\n",
       "    <tr style=\"text-align: right;\">\n",
       "      <th></th>\n",
       "      <th>COD</th>\n",
       "      <th>ERG</th>\n",
       "      <th>GJAH</th>\n",
       "      <th>MYR</th>\n",
       "      <th>PKD</th>\n",
       "      <th>RAS</th>\n",
       "      <th>TOK</th>\n",
       "      <th>VOL</th>\n",
       "      <th>KAT</th>\n",
       "      <th>XIN</th>\n",
       "      <th>Class</th>\n",
       "    </tr>\n",
       "  </thead>\n",
       "  <tbody>\n",
       "    <tr>\n",
       "      <th>0</th>\n",
       "      <td>iii</td>\n",
       "      <td>www</td>\n",
       "      <td>iii</td>\n",
       "      <td>eee</td>\n",
       "      <td>xxx</td>\n",
       "      <td>t</td>\n",
       "      <td>t</td>\n",
       "      <td>f</td>\n",
       "      <td>ccc</td>\n",
       "      <td>t</td>\n",
       "      <td>n</td>\n",
       "    </tr>\n",
       "    <tr>\n",
       "      <th>1</th>\n",
       "      <td>uuu</td>\n",
       "      <td>aaa</td>\n",
       "      <td>rrr</td>\n",
       "      <td>mmm</td>\n",
       "      <td>xxx</td>\n",
       "      <td>NaN</td>\n",
       "      <td>f</td>\n",
       "      <td>f</td>\n",
       "      <td>ddd</td>\n",
       "      <td>f</td>\n",
       "      <td>n</td>\n",
       "    </tr>\n",
       "    <tr>\n",
       "      <th>2</th>\n",
       "      <td>iii</td>\n",
       "      <td>www</td>\n",
       "      <td>iii</td>\n",
       "      <td>hh</td>\n",
       "      <td>hh</td>\n",
       "      <td>t</td>\n",
       "      <td>f</td>\n",
       "      <td>f</td>\n",
       "      <td>ddd</td>\n",
       "      <td>t</td>\n",
       "      <td>n</td>\n",
       "    </tr>\n",
       "    <tr>\n",
       "      <th>3</th>\n",
       "      <td>iii</td>\n",
       "      <td>www</td>\n",
       "      <td>iii</td>\n",
       "      <td>kkk</td>\n",
       "      <td>qqq</td>\n",
       "      <td>NaN</td>\n",
       "      <td>f</td>\n",
       "      <td>f</td>\n",
       "      <td>ccc</td>\n",
       "      <td>f</td>\n",
       "      <td>n</td>\n",
       "    </tr>\n",
       "    <tr>\n",
       "      <th>4</th>\n",
       "      <td>iii</td>\n",
       "      <td>www</td>\n",
       "      <td>iii</td>\n",
       "      <td>mmm</td>\n",
       "      <td>xxx</td>\n",
       "      <td>f</td>\n",
       "      <td>t</td>\n",
       "      <td>f</td>\n",
       "      <td>ddd</td>\n",
       "      <td>f</td>\n",
       "      <td>n</td>\n",
       "    </tr>\n",
       "  </tbody>\n",
       "</table>\n",
       "</div>"
      ],
      "text/plain": [
       "   COD  ERG GJAH  MYR  PKD  RAS TOK VOL  KAT XIN Class\n",
       "0  iii  www  iii  eee  xxx    t   t   f  ccc   t     n\n",
       "1  uuu  aaa  rrr  mmm  xxx  NaN   f   f  ddd   f     n\n",
       "2  iii  www  iii   hh   hh    t   f   f  ddd   t     n\n",
       "3  iii  www  iii  kkk  qqq  NaN   f   f  ccc   f     n\n",
       "4  iii  www  iii  mmm  xxx    f   t   f  ddd   f     n"
      ]
     },
     "execution_count": 24,
     "metadata": {},
     "output_type": "execute_result"
    }
   ],
   "source": [
    "#select columns containing categorical values from the original dataframe df\n",
    "df_cat = df.select_dtypes(include=[\"object\"])\n",
    "df_cat.head()"
   ]
  },
  {
   "cell_type": "code",
   "execution_count": 25,
   "id": "619f1bb7",
   "metadata": {},
   "outputs": [
    {
     "data": {
      "text/plain": [
       "(4070, 11)"
      ]
     },
     "execution_count": 25,
     "metadata": {},
     "output_type": "execute_result"
    }
   ],
   "source": [
    "df_cat.shape"
   ]
  },
  {
   "cell_type": "code",
   "execution_count": 26,
   "id": "393c8dd3",
   "metadata": {
    "scrolled": true
   },
   "outputs": [
    {
     "name": "stdout",
     "output_type": "stream",
     "text": [
      "COD         0\n",
      "ERG        64\n",
      "GJAH       64\n",
      "MYR        66\n",
      "PKD        66\n",
      "RAS      2365\n",
      "TOK         0\n",
      "VOL         0\n",
      "KAT        43\n",
      "XIN         0\n",
      "Class       0\n",
      "dtype: int64\n"
     ]
    },
    {
     "data": {
      "text/plain": [
       "<AxesSubplot:>"
      ]
     },
     "execution_count": 26,
     "metadata": {},
     "output_type": "execute_result"
    },
    {
     "data": {
      "image/png": "[encoded data removed]",
      "text/plain": [
       "<Figure size 720x360 with 3 Axes>"
      ]
     },
     "metadata": {
      "needs_background": "light"
     },
     "output_type": "display_data"
    }
   ],
   "source": [
    "#Count and Visualize missing spaces\n",
    "print(df_cat.isnull().sum())\n",
    "missingno.bar(df_cat, figsize=(10, 5))"
   ]
  },
  {
   "cell_type": "markdown",
   "id": "2d5f7127",
   "metadata": {},
   "source": [
    "**Notes** \n",
    "* RAS column has considerably high number of missing values, so we can drop it altogether\n",
    "* We will perform mode imputation (frequency) to fill in the missing values on the rest of the categorical columns"
   ]
  },
  {
   "cell_type": "code",
   "execution_count": 27,
   "id": "90ae017c",
   "metadata": {},
   "outputs": [
    {
     "name": "stdout",
     "output_type": "stream",
     "text": [
      "t    1115\n",
      "f     590\n",
      "Name: RAS, dtype: int64\n"
     ]
    },
    {
     "data": {
      "text/plain": [
       "<AxesSubplot:xlabel='count', ylabel='RAS'>"
      ]
     },
     "execution_count": 27,
     "metadata": {},
     "output_type": "execute_result"
    },
    {
     "data": {
      "image/png": "[encoded data removed]",
      "text/plain": [
       "<Figure size 576x144 with 1 Axes>"
      ]
     },
     "metadata": {
      "needs_background": "light"
     },
     "output_type": "display_data"
    }
   ],
   "source": [
    "# Check distribution on RAS feature\n",
    "ras_dist = df_cat.RAS.value_counts()\n",
    "print(ras_dist)\n",
    "\n",
    "plt.figure(figsize=(8, 2))\n",
    "sns.countplot(y=\"RAS\", data = df_cat)"
   ]
  },
  {
   "cell_type": "code",
   "execution_count": 28,
   "id": "cf8467d4",
   "metadata": {},
   "outputs": [
    {
     "data": {
      "text/html": [
       "<div>\n",
       "<style scoped>\n",
       "    .dataframe tbody tr th:only-of-type {\n",
       "        vertical-align: middle;\n",
       "    }\n",
       "\n",
       "    .dataframe tbody tr th {\n",
       "        vertical-align: top;\n",
       "    }\n",
       "\n",
       "    .dataframe thead th {\n",
       "        text-align: right;\n",
       "    }\n",
       "</style>\n",
       "<table border=\"1\" class=\"dataframe\">\n",
       "  <thead>\n",
       "    <tr style=\"text-align: right;\">\n",
       "      <th></th>\n",
       "      <th>COD</th>\n",
       "      <th>ERG</th>\n",
       "      <th>GJAH</th>\n",
       "      <th>MYR</th>\n",
       "      <th>PKD</th>\n",
       "      <th>TOK</th>\n",
       "      <th>VOL</th>\n",
       "      <th>KAT</th>\n",
       "      <th>XIN</th>\n",
       "      <th>Class</th>\n",
       "    </tr>\n",
       "  </thead>\n",
       "  <tbody>\n",
       "    <tr>\n",
       "      <th>0</th>\n",
       "      <td>iii</td>\n",
       "      <td>www</td>\n",
       "      <td>iii</td>\n",
       "      <td>eee</td>\n",
       "      <td>xxx</td>\n",
       "      <td>t</td>\n",
       "      <td>f</td>\n",
       "      <td>ccc</td>\n",
       "      <td>t</td>\n",
       "      <td>n</td>\n",
       "    </tr>\n",
       "    <tr>\n",
       "      <th>1</th>\n",
       "      <td>uuu</td>\n",
       "      <td>aaa</td>\n",
       "      <td>rrr</td>\n",
       "      <td>mmm</td>\n",
       "      <td>xxx</td>\n",
       "      <td>f</td>\n",
       "      <td>f</td>\n",
       "      <td>ddd</td>\n",
       "      <td>f</td>\n",
       "      <td>n</td>\n",
       "    </tr>\n",
       "    <tr>\n",
       "      <th>2</th>\n",
       "      <td>iii</td>\n",
       "      <td>www</td>\n",
       "      <td>iii</td>\n",
       "      <td>hh</td>\n",
       "      <td>hh</td>\n",
       "      <td>f</td>\n",
       "      <td>f</td>\n",
       "      <td>ddd</td>\n",
       "      <td>t</td>\n",
       "      <td>n</td>\n",
       "    </tr>\n",
       "    <tr>\n",
       "      <th>3</th>\n",
       "      <td>iii</td>\n",
       "      <td>www</td>\n",
       "      <td>iii</td>\n",
       "      <td>kkk</td>\n",
       "      <td>qqq</td>\n",
       "      <td>f</td>\n",
       "      <td>f</td>\n",
       "      <td>ccc</td>\n",
       "      <td>f</td>\n",
       "      <td>n</td>\n",
       "    </tr>\n",
       "    <tr>\n",
       "      <th>4</th>\n",
       "      <td>iii</td>\n",
       "      <td>www</td>\n",
       "      <td>iii</td>\n",
       "      <td>mmm</td>\n",
       "      <td>xxx</td>\n",
       "      <td>t</td>\n",
       "      <td>f</td>\n",
       "      <td>ddd</td>\n",
       "      <td>f</td>\n",
       "      <td>n</td>\n",
       "    </tr>\n",
       "  </tbody>\n",
       "</table>\n",
       "</div>"
      ],
      "text/plain": [
       "   COD  ERG GJAH  MYR  PKD TOK VOL  KAT XIN Class\n",
       "0  iii  www  iii  eee  xxx   t   f  ccc   t     n\n",
       "1  uuu  aaa  rrr  mmm  xxx   f   f  ddd   f     n\n",
       "2  iii  www  iii   hh   hh   f   f  ddd   t     n\n",
       "3  iii  www  iii  kkk  qqq   f   f  ccc   f     n\n",
       "4  iii  www  iii  mmm  xxx   t   f  ddd   f     n"
      ]
     },
     "execution_count": 28,
     "metadata": {},
     "output_type": "execute_result"
    }
   ],
   "source": [
    "df_cat = df_cat.drop([\"RAS\"], axis=1)\n",
    "df_cat.head()"
   ]
  },
  {
   "cell_type": "markdown",
   "id": "96642ab9",
   "metadata": {},
   "source": [
    "Note: RAS has huge number of missing values, so we can drop it altogether"
   ]
  },
  {
   "cell_type": "code",
   "execution_count": 29,
   "id": "8ac8a83c",
   "metadata": {
    "scrolled": true
   },
   "outputs": [
    {
     "data": {
      "text/plain": [
       "COD       0\n",
       "ERG      64\n",
       "GJAH     64\n",
       "MYR      66\n",
       "PKD      66\n",
       "TOK       0\n",
       "VOL       0\n",
       "KAT      43\n",
       "XIN       0\n",
       "Class     0\n",
       "dtype: int64"
      ]
     },
     "execution_count": 29,
     "metadata": {},
     "output_type": "execute_result"
    }
   ],
   "source": [
    "df_cat.isnull().sum()"
   ]
  },
  {
   "cell_type": "code",
   "execution_count": 30,
   "id": "e90c9253",
   "metadata": {},
   "outputs": [],
   "source": [
    "#Mode imputation based on\n",
    "def impute_nan(df,cat_feature):\n",
    "    most_frequent_category = df[cat_feature].mode()[0]\n",
    "    df[cat_feature].fillna(most_frequent_category,inplace=True)"
   ]
  },
  {
   "cell_type": "code",
   "execution_count": 31,
   "id": "04a4441a",
   "metadata": {},
   "outputs": [],
   "source": [
    "for feature in ['ERG','GJAH','MYR', 'PKD', 'KAT']:\n",
    "    impute_nan(df_cat,feature)"
   ]
  },
  {
   "cell_type": "code",
   "execution_count": 32,
   "id": "64a47a43",
   "metadata": {},
   "outputs": [
    {
     "data": {
      "text/plain": [
       "COD      0\n",
       "ERG      0\n",
       "GJAH     0\n",
       "MYR      0\n",
       "PKD      0\n",
       "TOK      0\n",
       "VOL      0\n",
       "KAT      0\n",
       "XIN      0\n",
       "Class    0\n",
       "dtype: int64"
      ]
     },
     "execution_count": 32,
     "metadata": {},
     "output_type": "execute_result"
    }
   ],
   "source": [
    "#Confirm for no missing values\n",
    "df_cat.isnull().sum()\n"
   ]
  },
  {
   "cell_type": "code",
   "execution_count": null,
   "id": "9abedd5b",
   "metadata": {},
   "outputs": [],
   "source": []
  },
  {
   "cell_type": "markdown",
   "id": "8063f00f",
   "metadata": {},
   "source": [
    "### Feature Selection"
   ]
  },
  {
   "cell_type": "code",
   "execution_count": 33,
   "id": "70354ace",
   "metadata": {},
   "outputs": [
    {
     "data": {
      "text/plain": [
       "(4070, 30)"
      ]
     },
     "execution_count": 33,
     "metadata": {},
     "output_type": "execute_result"
    }
   ],
   "source": [
    "# let's quickly check the dimension of OneHot encoded dataframe before preprocessing \n",
    "pd.get_dummies(df_cat, drop_first=True).shape"
   ]
  },
  {
   "cell_type": "markdown",
   "id": "9798ac13",
   "metadata": {},
   "source": [
    "**Quick Notes:**\n",
    "\n",
    "* Num. of Categorical variables = 30\n",
    "* Num. of Continous variables = 6\n",
    "\n",
    "***Total Columns before OneHot encoding: 30 + 6 = 36 columns***"
   ]
  },
  {
   "cell_type": "code",
   "execution_count": 34,
   "id": "a8ed9e9d",
   "metadata": {},
   "outputs": [
    {
     "name": "stdout",
     "output_type": "stream",
     "text": [
      "['iii' 'uuu' 'rrr']\n",
      "['www' 'aaa' 'nnn']\n",
      "['iii' 'rrr' 'ii']\n",
      "['eee' 'mmm' 'hh' 'kkk' 'lll' 'sss' 'yyy' 'fff' 'ooo' 'ee' 'ttt' 'zzz'\n",
      " 'ggg']\n",
      "['xxx' 'hh' 'qqq' 'jjj' 'lll' 'ff' 'ppp' 'bbb']\n",
      "['t' 'f']\n",
      "['f' 't']\n",
      "['ccc' 'ddd']\n",
      "['t' 'f']\n",
      "['n' 'y']\n"
     ]
    }
   ],
   "source": [
    "# Unique values\n",
    "for col in df_cat:\n",
    "    print(df_cat[col].unique())"
   ]
  },
  {
   "cell_type": "code",
   "execution_count": 35,
   "id": "b9edae42",
   "metadata": {},
   "outputs": [
    {
     "name": "stdout",
     "output_type": "stream",
     "text": [
      "COD : 3 labels\n",
      "ERG : 3 labels\n",
      "GJAH : 3 labels\n",
      "MYR : 13 labels\n",
      "PKD : 8 labels\n",
      "TOK : 2 labels\n",
      "VOL : 2 labels\n",
      "KAT : 2 labels\n",
      "XIN : 2 labels\n",
      "Class : 2 labels\n"
     ]
    }
   ],
   "source": [
    "# let's have a look at how many labels each variable has\n",
    "for feature in df_cat.columns[:]:\n",
    "    print(feature,\":\",len(df_cat[feature].unique()),'labels')"
   ]
  },
  {
   "cell_type": "markdown",
   "id": "6818340b",
   "metadata": {},
   "source": [
    "**Quick Notes:**\n",
    "\n",
    "* We will now examine the disbribution of each feature\n",
    "* We are interested mainly on values of MYR and PKD features, based on most frequent labels\n",
    "* This method works best when value_counts is huge and we get an explodingly huge dimension\n",
    "* **Source**: http://proceedings.mlr.press/v7/niculescu09/niculescu09.pdf\n"
   ]
  },
  {
   "cell_type": "code",
   "execution_count": 36,
   "id": "393d86bd",
   "metadata": {
    "scrolled": true
   },
   "outputs": [
    {
     "name": "stdout",
     "output_type": "stream",
     "text": [
      "eee    927\n",
      "sss    687\n",
      "ee     600\n",
      "yyy    396\n",
      "zzz    381\n",
      "kkk    210\n",
      "ooo    194\n",
      "mmm    188\n",
      "ggg    153\n",
      "hh     150\n",
      "fff    102\n",
      "lll     43\n",
      "ttt     39\n",
      "Name: MYR, dtype: int64\n"
     ]
    },
    {
     "data": {
      "text/plain": [
       "<AxesSubplot:xlabel='count', ylabel='MYR'>"
      ]
     },
     "execution_count": 36,
     "metadata": {},
     "output_type": "execute_result"
    },
    {
     "data": {
      "image/png": "[encoded data removed]",
      "text/plain": [
       "<Figure size 1080x360 with 1 Axes>"
      ]
     },
     "metadata": {
      "needs_background": "light"
     },
     "output_type": "display_data"
    }
   ],
   "source": [
    "# Check distribution on MYR feature\n",
    "myr_dist = df_cat.MYR.value_counts().sort_values(ascending=False)\n",
    "print(myr_dist)\n",
    "\n",
    "plt.figure(figsize=(15, 5))\n",
    "sns.countplot(y=\"MYR\", data=df_cat)"
   ]
  },
  {
   "cell_type": "code",
   "execution_count": 37,
   "id": "c4d5009f",
   "metadata": {},
   "outputs": [
    {
     "data": {
      "text/plain": [
       "['eee', 'sss', 'ee', 'yyy', 'zzz', 'kkk', 'ooo', 'mmm', 'ggg', 'hh']"
      ]
     },
     "execution_count": 37,
     "metadata": {},
     "output_type": "execute_result"
    }
   ],
   "source": [
    "# let's make a list with the most frequent categories of the variable\n",
    "top_10_labels = [y for y in df_cat.MYR.value_counts().sort_values(ascending=False).head(10).index]\n",
    "top_10_labels"
   ]
  },
  {
   "cell_type": "code",
   "execution_count": 38,
   "id": "3aaf1375",
   "metadata": {},
   "outputs": [],
   "source": [
    "# Lets define a function to get the whole set of dummy variables\n",
    "def Onehot_top_n(df, feature, top_n_labels):  \n",
    "    for label in top_n_labels:\n",
    "        df_cat[feature+'_'+label] = np.where(df_cat[feature]==label, 1, 0)"
   ]
  },
  {
   "cell_type": "code",
   "execution_count": 39,
   "id": "fb20e2a8",
   "metadata": {},
   "outputs": [
    {
     "data": {
      "text/html": [
       "<div>\n",
       "<style scoped>\n",
       "    .dataframe tbody tr th:only-of-type {\n",
       "        vertical-align: middle;\n",
       "    }\n",
       "\n",
       "    .dataframe tbody tr th {\n",
       "        vertical-align: top;\n",
       "    }\n",
       "\n",
       "    .dataframe thead th {\n",
       "        text-align: right;\n",
       "    }\n",
       "</style>\n",
       "<table border=\"1\" class=\"dataframe\">\n",
       "  <thead>\n",
       "    <tr style=\"text-align: right;\">\n",
       "      <th></th>\n",
       "      <th>COD</th>\n",
       "      <th>ERG</th>\n",
       "      <th>GJAH</th>\n",
       "      <th>MYR</th>\n",
       "      <th>PKD</th>\n",
       "      <th>TOK</th>\n",
       "      <th>VOL</th>\n",
       "      <th>KAT</th>\n",
       "      <th>XIN</th>\n",
       "      <th>Class</th>\n",
       "      <th>MYR_eee</th>\n",
       "      <th>MYR_sss</th>\n",
       "      <th>MYR_ee</th>\n",
       "      <th>MYR_yyy</th>\n",
       "      <th>MYR_zzz</th>\n",
       "      <th>MYR_kkk</th>\n",
       "      <th>MYR_ooo</th>\n",
       "      <th>MYR_mmm</th>\n",
       "      <th>MYR_ggg</th>\n",
       "      <th>MYR_hh</th>\n",
       "    </tr>\n",
       "  </thead>\n",
       "  <tbody>\n",
       "    <tr>\n",
       "      <th>0</th>\n",
       "      <td>iii</td>\n",
       "      <td>www</td>\n",
       "      <td>iii</td>\n",
       "      <td>eee</td>\n",
       "      <td>xxx</td>\n",
       "      <td>t</td>\n",
       "      <td>f</td>\n",
       "      <td>ccc</td>\n",
       "      <td>t</td>\n",
       "      <td>n</td>\n",
       "      <td>1</td>\n",
       "      <td>0</td>\n",
       "      <td>0</td>\n",
       "      <td>0</td>\n",
       "      <td>0</td>\n",
       "      <td>0</td>\n",
       "      <td>0</td>\n",
       "      <td>0</td>\n",
       "      <td>0</td>\n",
       "      <td>0</td>\n",
       "    </tr>\n",
       "    <tr>\n",
       "      <th>1</th>\n",
       "      <td>uuu</td>\n",
       "      <td>aaa</td>\n",
       "      <td>rrr</td>\n",
       "      <td>mmm</td>\n",
       "      <td>xxx</td>\n",
       "      <td>f</td>\n",
       "      <td>f</td>\n",
       "      <td>ddd</td>\n",
       "      <td>f</td>\n",
       "      <td>n</td>\n",
       "      <td>0</td>\n",
       "      <td>0</td>\n",
       "      <td>0</td>\n",
       "      <td>0</td>\n",
       "      <td>0</td>\n",
       "      <td>0</td>\n",
       "      <td>0</td>\n",
       "      <td>1</td>\n",
       "      <td>0</td>\n",
       "      <td>0</td>\n",
       "    </tr>\n",
       "    <tr>\n",
       "      <th>2</th>\n",
       "      <td>iii</td>\n",
       "      <td>www</td>\n",
       "      <td>iii</td>\n",
       "      <td>hh</td>\n",
       "      <td>hh</td>\n",
       "      <td>f</td>\n",
       "      <td>f</td>\n",
       "      <td>ddd</td>\n",
       "      <td>t</td>\n",
       "      <td>n</td>\n",
       "      <td>0</td>\n",
       "      <td>0</td>\n",
       "      <td>0</td>\n",
       "      <td>0</td>\n",
       "      <td>0</td>\n",
       "      <td>0</td>\n",
       "      <td>0</td>\n",
       "      <td>0</td>\n",
       "      <td>0</td>\n",
       "      <td>1</td>\n",
       "    </tr>\n",
       "    <tr>\n",
       "      <th>3</th>\n",
       "      <td>iii</td>\n",
       "      <td>www</td>\n",
       "      <td>iii</td>\n",
       "      <td>kkk</td>\n",
       "      <td>qqq</td>\n",
       "      <td>f</td>\n",
       "      <td>f</td>\n",
       "      <td>ccc</td>\n",
       "      <td>f</td>\n",
       "      <td>n</td>\n",
       "      <td>0</td>\n",
       "      <td>0</td>\n",
       "      <td>0</td>\n",
       "      <td>0</td>\n",
       "      <td>0</td>\n",
       "      <td>1</td>\n",
       "      <td>0</td>\n",
       "      <td>0</td>\n",
       "      <td>0</td>\n",
       "      <td>0</td>\n",
       "    </tr>\n",
       "    <tr>\n",
       "      <th>4</th>\n",
       "      <td>iii</td>\n",
       "      <td>www</td>\n",
       "      <td>iii</td>\n",
       "      <td>mmm</td>\n",
       "      <td>xxx</td>\n",
       "      <td>t</td>\n",
       "      <td>f</td>\n",
       "      <td>ddd</td>\n",
       "      <td>f</td>\n",
       "      <td>n</td>\n",
       "      <td>0</td>\n",
       "      <td>0</td>\n",
       "      <td>0</td>\n",
       "      <td>0</td>\n",
       "      <td>0</td>\n",
       "      <td>0</td>\n",
       "      <td>0</td>\n",
       "      <td>1</td>\n",
       "      <td>0</td>\n",
       "      <td>0</td>\n",
       "    </tr>\n",
       "  </tbody>\n",
       "</table>\n",
       "</div>"
      ],
      "text/plain": [
       "   COD  ERG GJAH  MYR  PKD TOK VOL  KAT XIN Class  MYR_eee  MYR_sss  MYR_ee  \\\n",
       "0  iii  www  iii  eee  xxx   t   f  ccc   t     n        1        0       0   \n",
       "1  uuu  aaa  rrr  mmm  xxx   f   f  ddd   f     n        0        0       0   \n",
       "2  iii  www  iii   hh   hh   f   f  ddd   t     n        0        0       0   \n",
       "3  iii  www  iii  kkk  qqq   f   f  ccc   f     n        0        0       0   \n",
       "4  iii  www  iii  mmm  xxx   t   f  ddd   f     n        0        0       0   \n",
       "\n",
       "   MYR_yyy  MYR_zzz  MYR_kkk  MYR_ooo  MYR_mmm  MYR_ggg  MYR_hh  \n",
       "0        0        0        0        0        0        0       0  \n",
       "1        0        0        0        0        1        0       0  \n",
       "2        0        0        0        0        0        0       1  \n",
       "3        0        0        1        0        0        0       0  \n",
       "4        0        0        0        0        1        0       0  "
      ]
     },
     "execution_count": 39,
     "metadata": {},
     "output_type": "execute_result"
    }
   ],
   "source": [
    "# Lets call the function to encode variable MYR into the 10 most frequent categories\n",
    "Onehot_top_n(df_cat, 'MYR', top_10_labels)\n",
    "df_cat.head()"
   ]
  },
  {
   "cell_type": "code",
   "execution_count": null,
   "id": "b253deb0",
   "metadata": {},
   "outputs": [],
   "source": []
  },
  {
   "cell_type": "code",
   "execution_count": 40,
   "id": "b75b3984",
   "metadata": {
    "scrolled": true
   },
   "outputs": [
    {
     "name": "stdout",
     "output_type": "stream",
     "text": [
      "xxx    2286\n",
      "jjj    1078\n",
      "ff      388\n",
      "hh      166\n",
      "bbb      53\n",
      "ppp      39\n",
      "lll      38\n",
      "qqq      22\n",
      "Name: PKD, dtype: int64\n"
     ]
    },
    {
     "data": {
      "text/plain": [
       "<AxesSubplot:xlabel='count', ylabel='PKD'>"
      ]
     },
     "execution_count": 40,
     "metadata": {},
     "output_type": "execute_result"
    },
    {
     "data": {
      "image/png": "[encoded data removed]",
      "text/plain": [
       "<Figure size 1080x360 with 1 Axes>"
      ]
     },
     "metadata": {
      "needs_background": "light"
     },
     "output_type": "display_data"
    }
   ],
   "source": [
    "# Check distribution on PKD feature\n",
    "pkd_dist = df_cat.PKD.value_counts()\n",
    "print(pkd_dist)\n",
    "\n",
    "plt.figure(figsize=(15, 5))\n",
    "sns.countplot(y=\"PKD\", data=df_cat)"
   ]
  },
  {
   "cell_type": "code",
   "execution_count": 41,
   "id": "10bc78a0",
   "metadata": {},
   "outputs": [],
   "source": [
    "# let's make a list with the most frequent categories of PKD column\n",
    "top_5_labels = [y for y in df_cat.PKD.value_counts().sort_values(ascending=False).head(5).index]\n",
    "\n",
    "# Lets call the encoder function to encode variable PKD into the 5 most frequent categories\n",
    "Onehot_top_n(df_cat, 'PKD', top_5_labels)\n"
   ]
  },
  {
   "cell_type": "code",
   "execution_count": 42,
   "id": "441c7ebc",
   "metadata": {},
   "outputs": [
    {
     "data": {
      "text/html": [
       "<div>\n",
       "<style scoped>\n",
       "    .dataframe tbody tr th:only-of-type {\n",
       "        vertical-align: middle;\n",
       "    }\n",
       "\n",
       "    .dataframe tbody tr th {\n",
       "        vertical-align: top;\n",
       "    }\n",
       "\n",
       "    .dataframe thead th {\n",
       "        text-align: right;\n",
       "    }\n",
       "</style>\n",
       "<table border=\"1\" class=\"dataframe\">\n",
       "  <thead>\n",
       "    <tr style=\"text-align: right;\">\n",
       "      <th></th>\n",
       "      <th>COD</th>\n",
       "      <th>ERG</th>\n",
       "      <th>GJAH</th>\n",
       "      <th>TOK</th>\n",
       "      <th>VOL</th>\n",
       "      <th>KAT</th>\n",
       "      <th>XIN</th>\n",
       "      <th>Class</th>\n",
       "      <th>MYR_eee</th>\n",
       "      <th>MYR_sss</th>\n",
       "      <th>...</th>\n",
       "      <th>MYR_kkk</th>\n",
       "      <th>MYR_ooo</th>\n",
       "      <th>MYR_mmm</th>\n",
       "      <th>MYR_ggg</th>\n",
       "      <th>MYR_hh</th>\n",
       "      <th>PKD_xxx</th>\n",
       "      <th>PKD_jjj</th>\n",
       "      <th>PKD_ff</th>\n",
       "      <th>PKD_hh</th>\n",
       "      <th>PKD_bbb</th>\n",
       "    </tr>\n",
       "  </thead>\n",
       "  <tbody>\n",
       "    <tr>\n",
       "      <th>0</th>\n",
       "      <td>iii</td>\n",
       "      <td>www</td>\n",
       "      <td>iii</td>\n",
       "      <td>t</td>\n",
       "      <td>f</td>\n",
       "      <td>ccc</td>\n",
       "      <td>t</td>\n",
       "      <td>n</td>\n",
       "      <td>1</td>\n",
       "      <td>0</td>\n",
       "      <td>...</td>\n",
       "      <td>0</td>\n",
       "      <td>0</td>\n",
       "      <td>0</td>\n",
       "      <td>0</td>\n",
       "      <td>0</td>\n",
       "      <td>1</td>\n",
       "      <td>0</td>\n",
       "      <td>0</td>\n",
       "      <td>0</td>\n",
       "      <td>0</td>\n",
       "    </tr>\n",
       "    <tr>\n",
       "      <th>1</th>\n",
       "      <td>uuu</td>\n",
       "      <td>aaa</td>\n",
       "      <td>rrr</td>\n",
       "      <td>f</td>\n",
       "      <td>f</td>\n",
       "      <td>ddd</td>\n",
       "      <td>f</td>\n",
       "      <td>n</td>\n",
       "      <td>0</td>\n",
       "      <td>0</td>\n",
       "      <td>...</td>\n",
       "      <td>0</td>\n",
       "      <td>0</td>\n",
       "      <td>1</td>\n",
       "      <td>0</td>\n",
       "      <td>0</td>\n",
       "      <td>1</td>\n",
       "      <td>0</td>\n",
       "      <td>0</td>\n",
       "      <td>0</td>\n",
       "      <td>0</td>\n",
       "    </tr>\n",
       "    <tr>\n",
       "      <th>2</th>\n",
       "      <td>iii</td>\n",
       "      <td>www</td>\n",
       "      <td>iii</td>\n",
       "      <td>f</td>\n",
       "      <td>f</td>\n",
       "      <td>ddd</td>\n",
       "      <td>t</td>\n",
       "      <td>n</td>\n",
       "      <td>0</td>\n",
       "      <td>0</td>\n",
       "      <td>...</td>\n",
       "      <td>0</td>\n",
       "      <td>0</td>\n",
       "      <td>0</td>\n",
       "      <td>0</td>\n",
       "      <td>1</td>\n",
       "      <td>0</td>\n",
       "      <td>0</td>\n",
       "      <td>0</td>\n",
       "      <td>1</td>\n",
       "      <td>0</td>\n",
       "    </tr>\n",
       "    <tr>\n",
       "      <th>3</th>\n",
       "      <td>iii</td>\n",
       "      <td>www</td>\n",
       "      <td>iii</td>\n",
       "      <td>f</td>\n",
       "      <td>f</td>\n",
       "      <td>ccc</td>\n",
       "      <td>f</td>\n",
       "      <td>n</td>\n",
       "      <td>0</td>\n",
       "      <td>0</td>\n",
       "      <td>...</td>\n",
       "      <td>1</td>\n",
       "      <td>0</td>\n",
       "      <td>0</td>\n",
       "      <td>0</td>\n",
       "      <td>0</td>\n",
       "      <td>0</td>\n",
       "      <td>0</td>\n",
       "      <td>0</td>\n",
       "      <td>0</td>\n",
       "      <td>0</td>\n",
       "    </tr>\n",
       "    <tr>\n",
       "      <th>4</th>\n",
       "      <td>iii</td>\n",
       "      <td>www</td>\n",
       "      <td>iii</td>\n",
       "      <td>t</td>\n",
       "      <td>f</td>\n",
       "      <td>ddd</td>\n",
       "      <td>f</td>\n",
       "      <td>n</td>\n",
       "      <td>0</td>\n",
       "      <td>0</td>\n",
       "      <td>...</td>\n",
       "      <td>0</td>\n",
       "      <td>0</td>\n",
       "      <td>1</td>\n",
       "      <td>0</td>\n",
       "      <td>0</td>\n",
       "      <td>1</td>\n",
       "      <td>0</td>\n",
       "      <td>0</td>\n",
       "      <td>0</td>\n",
       "      <td>0</td>\n",
       "    </tr>\n",
       "  </tbody>\n",
       "</table>\n",
       "<p>5 rows × 23 columns</p>\n",
       "</div>"
      ],
      "text/plain": [
       "   COD  ERG GJAH TOK VOL  KAT XIN Class  MYR_eee  MYR_sss  ...  MYR_kkk  \\\n",
       "0  iii  www  iii   t   f  ccc   t     n        1        0  ...        0   \n",
       "1  uuu  aaa  rrr   f   f  ddd   f     n        0        0  ...        0   \n",
       "2  iii  www  iii   f   f  ddd   t     n        0        0  ...        0   \n",
       "3  iii  www  iii   f   f  ccc   f     n        0        0  ...        1   \n",
       "4  iii  www  iii   t   f  ddd   f     n        0        0  ...        0   \n",
       "\n",
       "   MYR_ooo  MYR_mmm  MYR_ggg  MYR_hh  PKD_xxx  PKD_jjj  PKD_ff  PKD_hh  \\\n",
       "0        0        0        0       0        1        0       0       0   \n",
       "1        0        1        0       0        1        0       0       0   \n",
       "2        0        0        0       1        0        0       0       1   \n",
       "3        0        0        0       0        0        0       0       0   \n",
       "4        0        1        0       0        1        0       0       0   \n",
       "\n",
       "   PKD_bbb  \n",
       "0        0  \n",
       "1        0  \n",
       "2        0  \n",
       "3        0  \n",
       "4        0  \n",
       "\n",
       "[5 rows x 23 columns]"
      ]
     },
     "execution_count": 42,
     "metadata": {},
     "output_type": "execute_result"
    }
   ],
   "source": [
    "df_cat = df_cat.drop([\"MYR\", \"PKD\"], axis = 1)\n",
    "df_cat.head()"
   ]
  },
  {
   "cell_type": "code",
   "execution_count": null,
   "id": "b80fe637",
   "metadata": {},
   "outputs": [],
   "source": []
  },
  {
   "cell_type": "code",
   "execution_count": 43,
   "id": "7cff32b6",
   "metadata": {},
   "outputs": [
    {
     "name": "stdout",
     "output_type": "stream",
     "text": [
      "iii    3782\n",
      "uuu     202\n",
      "rrr      86\n",
      "Name: COD, dtype: int64\n"
     ]
    },
    {
     "data": {
      "text/plain": [
       "<AxesSubplot:>"
      ]
     },
     "execution_count": 43,
     "metadata": {},
     "output_type": "execute_result"
    },
    {
     "data": {
      "image/png": "[encoded data removed]",
      "text/plain": [
       "<Figure size 432x288 with 1 Axes>"
      ]
     },
     "metadata": {
      "needs_background": "light"
     },
     "output_type": "display_data"
    }
   ],
   "source": [
    "# Check distribution on COD feature\n",
    "cod_dist = df_cat.COD.value_counts()\n",
    "print(cod_dist)\n",
    "cod_dist.plot.bar()"
   ]
  },
  {
   "cell_type": "code",
   "execution_count": 44,
   "id": "0a20320b",
   "metadata": {},
   "outputs": [
    {
     "name": "stdout",
     "output_type": "stream",
     "text": [
      "www    3425\n",
      "aaa     608\n",
      "nnn      37\n",
      "Name: ERG, dtype: int64\n"
     ]
    },
    {
     "data": {
      "text/plain": [
       "<AxesSubplot:>"
      ]
     },
     "execution_count": 44,
     "metadata": {},
     "output_type": "execute_result"
    },
    {
     "data": {
      "image/png": "[encoded data removed]",
      "text/plain": [
       "<Figure size 432x288 with 1 Axes>"
      ]
     },
     "metadata": {
      "needs_background": "light"
     },
     "output_type": "display_data"
    }
   ],
   "source": [
    "# Check distribution on ERG feature\n",
    "erg_dist = df_cat.ERG.value_counts()\n",
    "print(erg_dist)\n",
    "erg_dist.plot.bar()"
   ]
  },
  {
   "cell_type": "code",
   "execution_count": 45,
   "id": "d8b14d91",
   "metadata": {},
   "outputs": [
    {
     "name": "stdout",
     "output_type": "stream",
     "text": [
      "iii    3425\n",
      "rrr     608\n",
      "ii       37\n",
      "Name: GJAH, dtype: int64\n"
     ]
    },
    {
     "data": {
      "text/plain": [
       "<AxesSubplot:>"
      ]
     },
     "execution_count": 45,
     "metadata": {},
     "output_type": "execute_result"
    },
    {
     "data": {
      "image/png": "[encoded data removed]",
      "text/plain": [
       "<Figure size 432x288 with 1 Axes>"
      ]
     },
     "metadata": {
      "needs_background": "light"
     },
     "output_type": "display_data"
    }
   ],
   "source": [
    "# Check distribution on GJAH feature\n",
    "gjah_dist = df_cat.GJAH.value_counts()\n",
    "print(gjah_dist)\n",
    "gjah_dist.plot.bar()"
   ]
  },
  {
   "cell_type": "code",
   "execution_count": 46,
   "id": "22cf3073",
   "metadata": {},
   "outputs": [
    {
     "name": "stdout",
     "output_type": "stream",
     "text": [
      "f    2118\n",
      "t    1952\n",
      "Name: TOK, dtype: int64\n"
     ]
    },
    {
     "data": {
      "text/plain": [
       "<AxesSubplot:>"
      ]
     },
     "execution_count": 46,
     "metadata": {},
     "output_type": "execute_result"
    },
    {
     "data": {
      "image/png": "[encoded data removed]",
      "text/plain": [
       "<Figure size 432x288 with 1 Axes>"
      ]
     },
     "metadata": {
      "needs_background": "light"
     },
     "output_type": "display_data"
    }
   ],
   "source": [
    "# Check distribution on PKD feature\n",
    "tok_dist = df_cat.TOK.value_counts()\n",
    "print(tok_dist)\n",
    "tok_dist.plot.bar()"
   ]
  },
  {
   "cell_type": "code",
   "execution_count": 47,
   "id": "92602cb1",
   "metadata": {},
   "outputs": [
    {
     "name": "stdout",
     "output_type": "stream",
     "text": [
      "t    3488\n",
      "f     582\n",
      "Name: VOL, dtype: int64\n"
     ]
    },
    {
     "data": {
      "text/plain": [
       "<AxesSubplot:>"
      ]
     },
     "execution_count": 47,
     "metadata": {},
     "output_type": "execute_result"
    },
    {
     "data": {
      "image/png": "[encoded data removed]",
      "text/plain": [
       "<Figure size 432x288 with 1 Axes>"
      ]
     },
     "metadata": {
      "needs_background": "light"
     },
     "output_type": "display_data"
    }
   ],
   "source": [
    "# Check distribution on PKD feature\n",
    "vol_dist = df_cat.VOL.value_counts()\n",
    "print(vol_dist)\n",
    "vol_dist.plot.bar()"
   ]
  },
  {
   "cell_type": "code",
   "execution_count": 48,
   "id": "37f5ae3e",
   "metadata": {},
   "outputs": [
    {
     "name": "stdout",
     "output_type": "stream",
     "text": [
      "ddd    2664\n",
      "ccc    1406\n",
      "Name: KAT, dtype: int64\n"
     ]
    },
    {
     "data": {
      "text/plain": [
       "<AxesSubplot:>"
      ]
     },
     "execution_count": 48,
     "metadata": {},
     "output_type": "execute_result"
    },
    {
     "data": {
      "image/png": "[encoded data removed]",
      "text/plain": [
       "<Figure size 432x288 with 1 Axes>"
      ]
     },
     "metadata": {
      "needs_background": "light"
     },
     "output_type": "display_data"
    }
   ],
   "source": [
    "# Check distribution on PKD feature\n",
    "kat_dist = df_cat.KAT.value_counts()\n",
    "print(kat_dist)\n",
    "kat_dist.plot.bar()"
   ]
  },
  {
   "cell_type": "code",
   "execution_count": 49,
   "id": "3d012d0b",
   "metadata": {},
   "outputs": [
    {
     "name": "stdout",
     "output_type": "stream",
     "text": [
      "t    2457\n",
      "f    1613\n",
      "Name: XIN, dtype: int64\n"
     ]
    },
    {
     "data": {
      "text/plain": [
       "<AxesSubplot:>"
      ]
     },
     "execution_count": 49,
     "metadata": {},
     "output_type": "execute_result"
    },
    {
     "data": {
      "image/png": "[encoded data removed]",
      "text/plain": [
       "<Figure size 432x288 with 1 Axes>"
      ]
     },
     "metadata": {
      "needs_background": "light"
     },
     "output_type": "display_data"
    }
   ],
   "source": [
    "# Check distribution on XIN feature\n",
    "xin_dist = df_cat.XIN.value_counts()\n",
    "print(xin_dist)\n",
    "xin_dist.plot.bar()"
   ]
  },
  {
   "cell_type": "code",
   "execution_count": 50,
   "id": "9bbfa711",
   "metadata": {},
   "outputs": [
    {
     "data": {
      "text/plain": [
       "Index(['COD', 'ERG', 'GJAH', 'TOK', 'VOL', 'KAT', 'XIN', 'Class', 'MYR_eee',\n",
       "       'MYR_sss', 'MYR_ee', 'MYR_yyy', 'MYR_zzz', 'MYR_kkk', 'MYR_ooo',\n",
       "       'MYR_mmm', 'MYR_ggg', 'MYR_hh', 'PKD_xxx', 'PKD_jjj', 'PKD_ff',\n",
       "       'PKD_hh', 'PKD_bbb'],\n",
       "      dtype='object')"
      ]
     },
     "execution_count": 50,
     "metadata": {},
     "output_type": "execute_result"
    }
   ],
   "source": [
    "df_cat.columns"
   ]
  },
  {
   "cell_type": "code",
   "execution_count": 51,
   "id": "f1a7493d",
   "metadata": {},
   "outputs": [
    {
     "data": {
      "text/html": [
       "<div>\n",
       "<style scoped>\n",
       "    .dataframe tbody tr th:only-of-type {\n",
       "        vertical-align: middle;\n",
       "    }\n",
       "\n",
       "    .dataframe tbody tr th {\n",
       "        vertical-align: top;\n",
       "    }\n",
       "\n",
       "    .dataframe thead th {\n",
       "        text-align: right;\n",
       "    }\n",
       "</style>\n",
       "<table border=\"1\" class=\"dataframe\">\n",
       "  <thead>\n",
       "    <tr style=\"text-align: right;\">\n",
       "      <th></th>\n",
       "      <th>Class</th>\n",
       "      <th>MYR_eee</th>\n",
       "      <th>MYR_sss</th>\n",
       "      <th>MYR_ee</th>\n",
       "      <th>MYR_yyy</th>\n",
       "      <th>MYR_zzz</th>\n",
       "      <th>MYR_kkk</th>\n",
       "      <th>MYR_ooo</th>\n",
       "      <th>MYR_mmm</th>\n",
       "      <th>MYR_ggg</th>\n",
       "      <th>...</th>\n",
       "      <th>COD_rrr</th>\n",
       "      <th>COD_uuu</th>\n",
       "      <th>ERG_nnn</th>\n",
       "      <th>ERG_www</th>\n",
       "      <th>GJAH_iii</th>\n",
       "      <th>GJAH_rrr</th>\n",
       "      <th>TOK_t</th>\n",
       "      <th>VOL_t</th>\n",
       "      <th>KAT_ddd</th>\n",
       "      <th>XIN_t</th>\n",
       "    </tr>\n",
       "  </thead>\n",
       "  <tbody>\n",
       "    <tr>\n",
       "      <th>0</th>\n",
       "      <td>n</td>\n",
       "      <td>1</td>\n",
       "      <td>0</td>\n",
       "      <td>0</td>\n",
       "      <td>0</td>\n",
       "      <td>0</td>\n",
       "      <td>0</td>\n",
       "      <td>0</td>\n",
       "      <td>0</td>\n",
       "      <td>0</td>\n",
       "      <td>...</td>\n",
       "      <td>0</td>\n",
       "      <td>0</td>\n",
       "      <td>0</td>\n",
       "      <td>1</td>\n",
       "      <td>1</td>\n",
       "      <td>0</td>\n",
       "      <td>1</td>\n",
       "      <td>0</td>\n",
       "      <td>0</td>\n",
       "      <td>1</td>\n",
       "    </tr>\n",
       "    <tr>\n",
       "      <th>1</th>\n",
       "      <td>n</td>\n",
       "      <td>0</td>\n",
       "      <td>0</td>\n",
       "      <td>0</td>\n",
       "      <td>0</td>\n",
       "      <td>0</td>\n",
       "      <td>0</td>\n",
       "      <td>0</td>\n",
       "      <td>1</td>\n",
       "      <td>0</td>\n",
       "      <td>...</td>\n",
       "      <td>0</td>\n",
       "      <td>1</td>\n",
       "      <td>0</td>\n",
       "      <td>0</td>\n",
       "      <td>0</td>\n",
       "      <td>1</td>\n",
       "      <td>0</td>\n",
       "      <td>0</td>\n",
       "      <td>1</td>\n",
       "      <td>0</td>\n",
       "    </tr>\n",
       "    <tr>\n",
       "      <th>2</th>\n",
       "      <td>n</td>\n",
       "      <td>0</td>\n",
       "      <td>0</td>\n",
       "      <td>0</td>\n",
       "      <td>0</td>\n",
       "      <td>0</td>\n",
       "      <td>0</td>\n",
       "      <td>0</td>\n",
       "      <td>0</td>\n",
       "      <td>0</td>\n",
       "      <td>...</td>\n",
       "      <td>0</td>\n",
       "      <td>0</td>\n",
       "      <td>0</td>\n",
       "      <td>1</td>\n",
       "      <td>1</td>\n",
       "      <td>0</td>\n",
       "      <td>0</td>\n",
       "      <td>0</td>\n",
       "      <td>1</td>\n",
       "      <td>1</td>\n",
       "    </tr>\n",
       "    <tr>\n",
       "      <th>3</th>\n",
       "      <td>n</td>\n",
       "      <td>0</td>\n",
       "      <td>0</td>\n",
       "      <td>0</td>\n",
       "      <td>0</td>\n",
       "      <td>0</td>\n",
       "      <td>1</td>\n",
       "      <td>0</td>\n",
       "      <td>0</td>\n",
       "      <td>0</td>\n",
       "      <td>...</td>\n",
       "      <td>0</td>\n",
       "      <td>0</td>\n",
       "      <td>0</td>\n",
       "      <td>1</td>\n",
       "      <td>1</td>\n",
       "      <td>0</td>\n",
       "      <td>0</td>\n",
       "      <td>0</td>\n",
       "      <td>0</td>\n",
       "      <td>0</td>\n",
       "    </tr>\n",
       "    <tr>\n",
       "      <th>4</th>\n",
       "      <td>n</td>\n",
       "      <td>0</td>\n",
       "      <td>0</td>\n",
       "      <td>0</td>\n",
       "      <td>0</td>\n",
       "      <td>0</td>\n",
       "      <td>0</td>\n",
       "      <td>0</td>\n",
       "      <td>1</td>\n",
       "      <td>0</td>\n",
       "      <td>...</td>\n",
       "      <td>0</td>\n",
       "      <td>0</td>\n",
       "      <td>0</td>\n",
       "      <td>1</td>\n",
       "      <td>1</td>\n",
       "      <td>0</td>\n",
       "      <td>1</td>\n",
       "      <td>0</td>\n",
       "      <td>1</td>\n",
       "      <td>0</td>\n",
       "    </tr>\n",
       "  </tbody>\n",
       "</table>\n",
       "<p>5 rows × 26 columns</p>\n",
       "</div>"
      ],
      "text/plain": [
       "  Class  MYR_eee  MYR_sss  MYR_ee  MYR_yyy  MYR_zzz  MYR_kkk  MYR_ooo  \\\n",
       "0     n        1        0       0        0        0        0        0   \n",
       "1     n        0        0       0        0        0        0        0   \n",
       "2     n        0        0       0        0        0        0        0   \n",
       "3     n        0        0       0        0        0        1        0   \n",
       "4     n        0        0       0        0        0        0        0   \n",
       "\n",
       "   MYR_mmm  MYR_ggg  ...  COD_rrr  COD_uuu  ERG_nnn  ERG_www  GJAH_iii  \\\n",
       "0        0        0  ...        0        0        0        1         1   \n",
       "1        1        0  ...        0        1        0        0         0   \n",
       "2        0        0  ...        0        0        0        1         1   \n",
       "3        0        0  ...        0        0        0        1         1   \n",
       "4        1        0  ...        0        0        0        1         1   \n",
       "\n",
       "   GJAH_rrr  TOK_t  VOL_t  KAT_ddd  XIN_t  \n",
       "0         0      1      0        0      1  \n",
       "1         1      0      0        1      0  \n",
       "2         0      0      0        1      1  \n",
       "3         0      0      0        0      0  \n",
       "4         0      1      0        1      0  \n",
       "\n",
       "[5 rows x 26 columns]"
      ]
     },
     "execution_count": 51,
     "metadata": {},
     "output_type": "execute_result"
    }
   ],
   "source": [
    "# Lets dummify rest of the categorical features into 1's and 0's\n",
    "cat_cols = ['COD', 'ERG', 'GJAH', 'TOK', 'VOL', 'KAT', 'XIN'] \n",
    "df_cat = pd.get_dummies(df_cat, columns = cat_cols, drop_first=True)\n",
    "df_cat.head()"
   ]
  },
  {
   "cell_type": "code",
   "execution_count": 52,
   "id": "b6e227e1",
   "metadata": {},
   "outputs": [
    {
     "data": {
      "image/png": "[encoded data removed]",
      "text/plain": [
       "<Figure size 1080x1080 with 2 Axes>"
      ]
     },
     "metadata": {
      "needs_background": "light"
     },
     "output_type": "display_data"
    }
   ],
   "source": [
    "import seaborn as sns\n",
    "#Using Pearson Correlation\n",
    "plt.figure(figsize=(15,15))\n",
    "cor = df_cat.corr()\n",
    "sns.heatmap(cor, annot=True, cmap=plt.cm.CMRmap_r)\n",
    "plt.show()"
   ]
  },
  {
   "cell_type": "markdown",
   "id": "906b71bd",
   "metadata": {},
   "source": [
    "**Quick Note:**\n",
    "* We can see the presence of highly corelated features, so let's utlize the correlation function to drop them"
   ]
  },
  {
   "cell_type": "code",
   "execution_count": 53,
   "id": "92b3823b",
   "metadata": {},
   "outputs": [],
   "source": [
    "# find and remove correlated features\n",
    "\n",
    "threshold = .9\n",
    "\n",
    "def correlation(dataset, threshold):\n",
    "    col_corr = set()  # Set of all the names of correlated columns\n",
    "    corr_matrix = df_cat.corr()\n",
    "    for i in range(len(corr_matrix.columns)):\n",
    "        for j in range(i):\n",
    "            if abs(corr_matrix.iloc[i, j]) > threshold:\n",
    "                colname = corr_matrix.columns[i]  # getting the name of column\n",
    "                col_corr.add(colname)\n",
    "    return col_corr"
   ]
  },
  {
   "cell_type": "code",
   "execution_count": 54,
   "id": "be46f9ad",
   "metadata": {},
   "outputs": [
    {
     "name": "stdout",
     "output_type": "stream",
     "text": [
      "2\n"
     ]
    },
    {
     "data": {
      "text/plain": [
       "{'GJAH_iii', 'GJAH_rrr'}"
      ]
     },
     "execution_count": 54,
     "metadata": {},
     "output_type": "execute_result"
    }
   ],
   "source": [
    "corr_features = correlation(df_cat, threshold)\n",
    "print(len(set(corr_features)))\n",
    "corr_features"
   ]
  },
  {
   "cell_type": "markdown",
   "id": "aa365867",
   "metadata": {},
   "source": [
    "**These are the features that are over 90% correlated, so lets drop them off**"
   ]
  },
  {
   "cell_type": "code",
   "execution_count": 55,
   "id": "ffe047b3",
   "metadata": {},
   "outputs": [
    {
     "data": {
      "text/html": [
       "<div>\n",
       "<style scoped>\n",
       "    .dataframe tbody tr th:only-of-type {\n",
       "        vertical-align: middle;\n",
       "    }\n",
       "\n",
       "    .dataframe tbody tr th {\n",
       "        vertical-align: top;\n",
       "    }\n",
       "\n",
       "    .dataframe thead th {\n",
       "        text-align: right;\n",
       "    }\n",
       "</style>\n",
       "<table border=\"1\" class=\"dataframe\">\n",
       "  <thead>\n",
       "    <tr style=\"text-align: right;\">\n",
       "      <th></th>\n",
       "      <th>Class</th>\n",
       "      <th>MYR_eee</th>\n",
       "      <th>MYR_sss</th>\n",
       "      <th>MYR_ee</th>\n",
       "      <th>MYR_yyy</th>\n",
       "      <th>MYR_zzz</th>\n",
       "      <th>MYR_kkk</th>\n",
       "      <th>MYR_ooo</th>\n",
       "      <th>MYR_mmm</th>\n",
       "      <th>MYR_ggg</th>\n",
       "      <th>...</th>\n",
       "      <th>PKD_hh</th>\n",
       "      <th>PKD_bbb</th>\n",
       "      <th>COD_rrr</th>\n",
       "      <th>COD_uuu</th>\n",
       "      <th>ERG_nnn</th>\n",
       "      <th>ERG_www</th>\n",
       "      <th>TOK_t</th>\n",
       "      <th>VOL_t</th>\n",
       "      <th>KAT_ddd</th>\n",
       "      <th>XIN_t</th>\n",
       "    </tr>\n",
       "  </thead>\n",
       "  <tbody>\n",
       "    <tr>\n",
       "      <th>0</th>\n",
       "      <td>n</td>\n",
       "      <td>1</td>\n",
       "      <td>0</td>\n",
       "      <td>0</td>\n",
       "      <td>0</td>\n",
       "      <td>0</td>\n",
       "      <td>0</td>\n",
       "      <td>0</td>\n",
       "      <td>0</td>\n",
       "      <td>0</td>\n",
       "      <td>...</td>\n",
       "      <td>0</td>\n",
       "      <td>0</td>\n",
       "      <td>0</td>\n",
       "      <td>0</td>\n",
       "      <td>0</td>\n",
       "      <td>1</td>\n",
       "      <td>1</td>\n",
       "      <td>0</td>\n",
       "      <td>0</td>\n",
       "      <td>1</td>\n",
       "    </tr>\n",
       "    <tr>\n",
       "      <th>1</th>\n",
       "      <td>n</td>\n",
       "      <td>0</td>\n",
       "      <td>0</td>\n",
       "      <td>0</td>\n",
       "      <td>0</td>\n",
       "      <td>0</td>\n",
       "      <td>0</td>\n",
       "      <td>0</td>\n",
       "      <td>1</td>\n",
       "      <td>0</td>\n",
       "      <td>...</td>\n",
       "      <td>0</td>\n",
       "      <td>0</td>\n",
       "      <td>0</td>\n",
       "      <td>1</td>\n",
       "      <td>0</td>\n",
       "      <td>0</td>\n",
       "      <td>0</td>\n",
       "      <td>0</td>\n",
       "      <td>1</td>\n",
       "      <td>0</td>\n",
       "    </tr>\n",
       "    <tr>\n",
       "      <th>2</th>\n",
       "      <td>n</td>\n",
       "      <td>0</td>\n",
       "      <td>0</td>\n",
       "      <td>0</td>\n",
       "      <td>0</td>\n",
       "      <td>0</td>\n",
       "      <td>0</td>\n",
       "      <td>0</td>\n",
       "      <td>0</td>\n",
       "      <td>0</td>\n",
       "      <td>...</td>\n",
       "      <td>1</td>\n",
       "      <td>0</td>\n",
       "      <td>0</td>\n",
       "      <td>0</td>\n",
       "      <td>0</td>\n",
       "      <td>1</td>\n",
       "      <td>0</td>\n",
       "      <td>0</td>\n",
       "      <td>1</td>\n",
       "      <td>1</td>\n",
       "    </tr>\n",
       "    <tr>\n",
       "      <th>3</th>\n",
       "      <td>n</td>\n",
       "      <td>0</td>\n",
       "      <td>0</td>\n",
       "      <td>0</td>\n",
       "      <td>0</td>\n",
       "      <td>0</td>\n",
       "      <td>1</td>\n",
       "      <td>0</td>\n",
       "      <td>0</td>\n",
       "      <td>0</td>\n",
       "      <td>...</td>\n",
       "      <td>0</td>\n",
       "      <td>0</td>\n",
       "      <td>0</td>\n",
       "      <td>0</td>\n",
       "      <td>0</td>\n",
       "      <td>1</td>\n",
       "      <td>0</td>\n",
       "      <td>0</td>\n",
       "      <td>0</td>\n",
       "      <td>0</td>\n",
       "    </tr>\n",
       "    <tr>\n",
       "      <th>4</th>\n",
       "      <td>n</td>\n",
       "      <td>0</td>\n",
       "      <td>0</td>\n",
       "      <td>0</td>\n",
       "      <td>0</td>\n",
       "      <td>0</td>\n",
       "      <td>0</td>\n",
       "      <td>0</td>\n",
       "      <td>1</td>\n",
       "      <td>0</td>\n",
       "      <td>...</td>\n",
       "      <td>0</td>\n",
       "      <td>0</td>\n",
       "      <td>0</td>\n",
       "      <td>0</td>\n",
       "      <td>0</td>\n",
       "      <td>1</td>\n",
       "      <td>1</td>\n",
       "      <td>0</td>\n",
       "      <td>1</td>\n",
       "      <td>0</td>\n",
       "    </tr>\n",
       "  </tbody>\n",
       "</table>\n",
       "<p>5 rows × 24 columns</p>\n",
       "</div>"
      ],
      "text/plain": [
       "  Class  MYR_eee  MYR_sss  MYR_ee  MYR_yyy  MYR_zzz  MYR_kkk  MYR_ooo  \\\n",
       "0     n        1        0       0        0        0        0        0   \n",
       "1     n        0        0       0        0        0        0        0   \n",
       "2     n        0        0       0        0        0        0        0   \n",
       "3     n        0        0       0        0        0        1        0   \n",
       "4     n        0        0       0        0        0        0        0   \n",
       "\n",
       "   MYR_mmm  MYR_ggg  ...  PKD_hh  PKD_bbb  COD_rrr  COD_uuu  ERG_nnn  ERG_www  \\\n",
       "0        0        0  ...       0        0        0        0        0        1   \n",
       "1        1        0  ...       0        0        0        1        0        0   \n",
       "2        0        0  ...       1        0        0        0        0        1   \n",
       "3        0        0  ...       0        0        0        0        0        1   \n",
       "4        1        0  ...       0        0        0        0        0        1   \n",
       "\n",
       "   TOK_t  VOL_t  KAT_ddd  XIN_t  \n",
       "0      1      0        0      1  \n",
       "1      0      0        1      0  \n",
       "2      0      0        1      1  \n",
       "3      0      0        0      0  \n",
       "4      1      0        1      0  \n",
       "\n",
       "[5 rows x 24 columns]"
      ]
     },
     "execution_count": 55,
     "metadata": {},
     "output_type": "execute_result"
    }
   ],
   "source": [
    "df_cat = df_cat.drop(corr_features, axis=1)\n",
    "df_cat.head()"
   ]
  },
  {
   "cell_type": "code",
   "execution_count": 56,
   "id": "8231eec0",
   "metadata": {},
   "outputs": [
    {
     "data": {
      "text/html": [
       "<div>\n",
       "<style scoped>\n",
       "    .dataframe tbody tr th:only-of-type {\n",
       "        vertical-align: middle;\n",
       "    }\n",
       "\n",
       "    .dataframe tbody tr th {\n",
       "        vertical-align: top;\n",
       "    }\n",
       "\n",
       "    .dataframe thead th {\n",
       "        text-align: right;\n",
       "    }\n",
       "</style>\n",
       "<table border=\"1\" class=\"dataframe\">\n",
       "  <thead>\n",
       "    <tr style=\"text-align: right;\">\n",
       "      <th></th>\n",
       "      <th>BIB</th>\n",
       "      <th>FAN</th>\n",
       "      <th>LUK</th>\n",
       "      <th>SIS</th>\n",
       "      <th>UIN</th>\n",
       "      <th>WET</th>\n",
       "      <th>Class</th>\n",
       "      <th>MYR_eee</th>\n",
       "      <th>MYR_sss</th>\n",
       "      <th>MYR_ee</th>\n",
       "      <th>...</th>\n",
       "      <th>PKD_hh</th>\n",
       "      <th>PKD_bbb</th>\n",
       "      <th>COD_rrr</th>\n",
       "      <th>COD_uuu</th>\n",
       "      <th>ERG_nnn</th>\n",
       "      <th>ERG_www</th>\n",
       "      <th>TOK_t</th>\n",
       "      <th>VOL_t</th>\n",
       "      <th>KAT_ddd</th>\n",
       "      <th>XIN_t</th>\n",
       "    </tr>\n",
       "  </thead>\n",
       "  <tbody>\n",
       "    <tr>\n",
       "      <th>0</th>\n",
       "      <td>0.893258</td>\n",
       "      <td>0.068966</td>\n",
       "      <td>0.00005</td>\n",
       "      <td>0.061404</td>\n",
       "      <td>0.062707</td>\n",
       "      <td>0.014925</td>\n",
       "      <td>n</td>\n",
       "      <td>1</td>\n",
       "      <td>0</td>\n",
       "      <td>0</td>\n",
       "      <td>...</td>\n",
       "      <td>0</td>\n",
       "      <td>0</td>\n",
       "      <td>0</td>\n",
       "      <td>0</td>\n",
       "      <td>0</td>\n",
       "      <td>1</td>\n",
       "      <td>1</td>\n",
       "      <td>0</td>\n",
       "      <td>0</td>\n",
       "      <td>1</td>\n",
       "    </tr>\n",
       "    <tr>\n",
       "      <th>1</th>\n",
       "      <td>0.853933</td>\n",
       "      <td>0.172414</td>\n",
       "      <td>0.00000</td>\n",
       "      <td>0.010175</td>\n",
       "      <td>0.047669</td>\n",
       "      <td>0.000000</td>\n",
       "      <td>n</td>\n",
       "      <td>0</td>\n",
       "      <td>0</td>\n",
       "      <td>0</td>\n",
       "      <td>...</td>\n",
       "      <td>0</td>\n",
       "      <td>0</td>\n",
       "      <td>0</td>\n",
       "      <td>1</td>\n",
       "      <td>0</td>\n",
       "      <td>0</td>\n",
       "      <td>0</td>\n",
       "      <td>0</td>\n",
       "      <td>1</td>\n",
       "      <td>0</td>\n",
       "    </tr>\n",
       "    <tr>\n",
       "      <th>2</th>\n",
       "      <td>0.022472</td>\n",
       "      <td>0.082759</td>\n",
       "      <td>0.00019</td>\n",
       "      <td>0.000000</td>\n",
       "      <td>0.263158</td>\n",
       "      <td>0.014925</td>\n",
       "      <td>n</td>\n",
       "      <td>0</td>\n",
       "      <td>0</td>\n",
       "      <td>0</td>\n",
       "      <td>...</td>\n",
       "      <td>1</td>\n",
       "      <td>0</td>\n",
       "      <td>0</td>\n",
       "      <td>0</td>\n",
       "      <td>0</td>\n",
       "      <td>1</td>\n",
       "      <td>0</td>\n",
       "      <td>0</td>\n",
       "      <td>1</td>\n",
       "      <td>1</td>\n",
       "    </tr>\n",
       "    <tr>\n",
       "      <th>3</th>\n",
       "      <td>0.044944</td>\n",
       "      <td>0.000000</td>\n",
       "      <td>0.00120</td>\n",
       "      <td>0.011754</td>\n",
       "      <td>0.517594</td>\n",
       "      <td>0.000000</td>\n",
       "      <td>n</td>\n",
       "      <td>0</td>\n",
       "      <td>0</td>\n",
       "      <td>0</td>\n",
       "      <td>...</td>\n",
       "      <td>0</td>\n",
       "      <td>0</td>\n",
       "      <td>0</td>\n",
       "      <td>0</td>\n",
       "      <td>0</td>\n",
       "      <td>1</td>\n",
       "      <td>0</td>\n",
       "      <td>0</td>\n",
       "      <td>0</td>\n",
       "      <td>0</td>\n",
       "    </tr>\n",
       "    <tr>\n",
       "      <th>4</th>\n",
       "      <td>0.219101</td>\n",
       "      <td>0.200000</td>\n",
       "      <td>0.00000</td>\n",
       "      <td>0.017544</td>\n",
       "      <td>0.279398</td>\n",
       "      <td>0.000000</td>\n",
       "      <td>n</td>\n",
       "      <td>0</td>\n",
       "      <td>0</td>\n",
       "      <td>0</td>\n",
       "      <td>...</td>\n",
       "      <td>0</td>\n",
       "      <td>0</td>\n",
       "      <td>0</td>\n",
       "      <td>0</td>\n",
       "      <td>0</td>\n",
       "      <td>1</td>\n",
       "      <td>1</td>\n",
       "      <td>0</td>\n",
       "      <td>1</td>\n",
       "      <td>0</td>\n",
       "    </tr>\n",
       "    <tr>\n",
       "      <th>...</th>\n",
       "      <td>...</td>\n",
       "      <td>...</td>\n",
       "      <td>...</td>\n",
       "      <td>...</td>\n",
       "      <td>...</td>\n",
       "      <td>...</td>\n",
       "      <td>...</td>\n",
       "      <td>...</td>\n",
       "      <td>...</td>\n",
       "      <td>...</td>\n",
       "      <td>...</td>\n",
       "      <td>...</td>\n",
       "      <td>...</td>\n",
       "      <td>...</td>\n",
       "      <td>...</td>\n",
       "      <td>...</td>\n",
       "      <td>...</td>\n",
       "      <td>...</td>\n",
       "      <td>...</td>\n",
       "      <td>...</td>\n",
       "      <td>...</td>\n",
       "    </tr>\n",
       "    <tr>\n",
       "      <th>4065</th>\n",
       "      <td>0.865169</td>\n",
       "      <td>0.000000</td>\n",
       "      <td>0.00500</td>\n",
       "      <td>0.192982</td>\n",
       "      <td>0.587669</td>\n",
       "      <td>0.208955</td>\n",
       "      <td>y</td>\n",
       "      <td>0</td>\n",
       "      <td>1</td>\n",
       "      <td>0</td>\n",
       "      <td>...</td>\n",
       "      <td>0</td>\n",
       "      <td>0</td>\n",
       "      <td>0</td>\n",
       "      <td>0</td>\n",
       "      <td>0</td>\n",
       "      <td>1</td>\n",
       "      <td>0</td>\n",
       "      <td>1</td>\n",
       "      <td>0</td>\n",
       "      <td>1</td>\n",
       "    </tr>\n",
       "    <tr>\n",
       "      <th>4066</th>\n",
       "      <td>0.067416</td>\n",
       "      <td>0.086207</td>\n",
       "      <td>0.00003</td>\n",
       "      <td>0.026316</td>\n",
       "      <td>0.081504</td>\n",
       "      <td>0.104478</td>\n",
       "      <td>y</td>\n",
       "      <td>0</td>\n",
       "      <td>0</td>\n",
       "      <td>0</td>\n",
       "      <td>...</td>\n",
       "      <td>0</td>\n",
       "      <td>0</td>\n",
       "      <td>0</td>\n",
       "      <td>0</td>\n",
       "      <td>0</td>\n",
       "      <td>1</td>\n",
       "      <td>0</td>\n",
       "      <td>1</td>\n",
       "      <td>0</td>\n",
       "      <td>1</td>\n",
       "    </tr>\n",
       "    <tr>\n",
       "      <th>4067</th>\n",
       "      <td>0.101124</td>\n",
       "      <td>0.392241</td>\n",
       "      <td>0.01236</td>\n",
       "      <td>0.175439</td>\n",
       "      <td>0.345865</td>\n",
       "      <td>0.000000</td>\n",
       "      <td>y</td>\n",
       "      <td>0</td>\n",
       "      <td>1</td>\n",
       "      <td>0</td>\n",
       "      <td>...</td>\n",
       "      <td>0</td>\n",
       "      <td>0</td>\n",
       "      <td>0</td>\n",
       "      <td>0</td>\n",
       "      <td>0</td>\n",
       "      <td>0</td>\n",
       "      <td>1</td>\n",
       "      <td>1</td>\n",
       "      <td>0</td>\n",
       "      <td>0</td>\n",
       "    </tr>\n",
       "    <tr>\n",
       "      <th>4068</th>\n",
       "      <td>0.410112</td>\n",
       "      <td>0.103448</td>\n",
       "      <td>0.26726</td>\n",
       "      <td>0.029298</td>\n",
       "      <td>0.142857</td>\n",
       "      <td>0.000000</td>\n",
       "      <td>y</td>\n",
       "      <td>0</td>\n",
       "      <td>1</td>\n",
       "      <td>0</td>\n",
       "      <td>...</td>\n",
       "      <td>0</td>\n",
       "      <td>0</td>\n",
       "      <td>0</td>\n",
       "      <td>0</td>\n",
       "      <td>0</td>\n",
       "      <td>1</td>\n",
       "      <td>0</td>\n",
       "      <td>1</td>\n",
       "      <td>1</td>\n",
       "      <td>0</td>\n",
       "    </tr>\n",
       "    <tr>\n",
       "      <th>4069</th>\n",
       "      <td>0.606742</td>\n",
       "      <td>0.258621</td>\n",
       "      <td>0.00551</td>\n",
       "      <td>0.023333</td>\n",
       "      <td>0.125263</td>\n",
       "      <td>0.000000</td>\n",
       "      <td>y</td>\n",
       "      <td>0</td>\n",
       "      <td>0</td>\n",
       "      <td>0</td>\n",
       "      <td>...</td>\n",
       "      <td>0</td>\n",
       "      <td>0</td>\n",
       "      <td>0</td>\n",
       "      <td>0</td>\n",
       "      <td>0</td>\n",
       "      <td>1</td>\n",
       "      <td>0</td>\n",
       "      <td>1</td>\n",
       "      <td>1</td>\n",
       "      <td>0</td>\n",
       "    </tr>\n",
       "  </tbody>\n",
       "</table>\n",
       "<p>4070 rows × 30 columns</p>\n",
       "</div>"
      ],
      "text/plain": [
       "           BIB       FAN      LUK       SIS       UIN       WET Class  \\\n",
       "0     0.893258  0.068966  0.00005  0.061404  0.062707  0.014925     n   \n",
       "1     0.853933  0.172414  0.00000  0.010175  0.047669  0.000000     n   \n",
       "2     0.022472  0.082759  0.00019  0.000000  0.263158  0.014925     n   \n",
       "3     0.044944  0.000000  0.00120  0.011754  0.517594  0.000000     n   \n",
       "4     0.219101  0.200000  0.00000  0.017544  0.279398  0.000000     n   \n",
       "...        ...       ...      ...       ...       ...       ...   ...   \n",
       "4065  0.865169  0.000000  0.00500  0.192982  0.587669  0.208955     y   \n",
       "4066  0.067416  0.086207  0.00003  0.026316  0.081504  0.104478     y   \n",
       "4067  0.101124  0.392241  0.01236  0.175439  0.345865  0.000000     y   \n",
       "4068  0.410112  0.103448  0.26726  0.029298  0.142857  0.000000     y   \n",
       "4069  0.606742  0.258621  0.00551  0.023333  0.125263  0.000000     y   \n",
       "\n",
       "      MYR_eee  MYR_sss  MYR_ee  ...  PKD_hh  PKD_bbb  COD_rrr  COD_uuu  \\\n",
       "0           1        0       0  ...       0        0        0        0   \n",
       "1           0        0       0  ...       0        0        0        1   \n",
       "2           0        0       0  ...       1        0        0        0   \n",
       "3           0        0       0  ...       0        0        0        0   \n",
       "4           0        0       0  ...       0        0        0        0   \n",
       "...       ...      ...     ...  ...     ...      ...      ...      ...   \n",
       "4065        0        1       0  ...       0        0        0        0   \n",
       "4066        0        0       0  ...       0        0        0        0   \n",
       "4067        0        1       0  ...       0        0        0        0   \n",
       "4068        0        1       0  ...       0        0        0        0   \n",
       "4069        0        0       0  ...       0        0        0        0   \n",
       "\n",
       "      ERG_nnn  ERG_www  TOK_t  VOL_t  KAT_ddd  XIN_t  \n",
       "0           0        1      1      0        0      1  \n",
       "1           0        0      0      0        1      0  \n",
       "2           0        1      0      0        1      1  \n",
       "3           0        1      0      0        0      0  \n",
       "4           0        1      1      0        1      0  \n",
       "...       ...      ...    ...    ...      ...    ...  \n",
       "4065        0        1      0      1        0      1  \n",
       "4066        0        1      0      1        0      1  \n",
       "4067        0        0      1      1        0      0  \n",
       "4068        0        1      0      1        1      0  \n",
       "4069        0        1      0      1        1      0  \n",
       "\n",
       "[4070 rows x 30 columns]"
      ]
     },
     "execution_count": 56,
     "metadata": {},
     "output_type": "execute_result"
    }
   ],
   "source": [
    "#join two dataframes\n",
    "df_processed = pd.concat([df_num, df_cat], axis=1, join=\"inner\")\n",
    "df_processed"
   ]
  },
  {
   "cell_type": "code",
   "execution_count": 57,
   "id": "6bbbd804",
   "metadata": {},
   "outputs": [],
   "source": [
    "# Lets get our train and test datasets\n",
    "X = df_processed.drop([\"Class\"], axis = 1)\n",
    "y = df_processed[\"Class\"]"
   ]
  },
  {
   "cell_type": "code",
   "execution_count": 58,
   "id": "b5f9c2b8",
   "metadata": {},
   "outputs": [],
   "source": [
    "# Train test split to avoid overfitting\n",
    "from sklearn.model_selection import train_test_split\n",
    "X_train, X_test, y_train, y_test = train_test_split(X, y, test_size=0.2, random_state=0)"
   ]
  },
  {
   "cell_type": "code",
   "execution_count": null,
   "id": "33a49a18",
   "metadata": {},
   "outputs": [],
   "source": []
  },
  {
   "cell_type": "code",
   "execution_count": 59,
   "id": "4b91206d",
   "metadata": {},
   "outputs": [],
   "source": [
    "import math, time, random, datetime\n",
    "from sklearn.metrics import f1_score, accuracy_score\n",
    "from sklearn.model_selection import train_test_split\n",
    "from sklearn.metrics import confusion_matrix as cm\n",
    "from sklearn import model_selection, tree, preprocessing, metrics, linear_model\n",
    "from sklearn.svm import LinearSVC\n",
    "from sklearn.model_selection import RandomizedSearchCV\n",
    "from xgboost import XGBClassifier\n",
    "from sklearn.ensemble import AdaBoostClassifier\n",
    "from sklearn.ensemble import GradientBoostingClassifier\n",
    "from sklearn.neighbors import KNeighborsClassifier\n",
    "from sklearn.naive_bayes import GaussianNB\n",
    "from sklearn.linear_model import LinearRegression, LogisticRegression, SGDClassifier\n",
    "from sklearn.tree import DecisionTreeClassifier\n",
    "from sklearn.ensemble import RandomForestClassifier\n",
    "import warnings\n",
    "warnings.filterwarnings('ignore')"
   ]
  },
  {
   "cell_type": "code",
   "execution_count": 60,
   "id": "b5e62d8c",
   "metadata": {},
   "outputs": [],
   "source": [
    "# Function that runs the requested algorithm and returns the accuracy metrics\n",
    "def fit_model(algo, X_train, y_train, cv):\n",
    "    model = algo.fit(X_train, y_train)\n",
    "    acc = round(model.score(X_train, y_train) * 100, 2)\n",
    "    \n",
    "    # Cross Validation \n",
    "    train_pred = model_selection.cross_val_predict(algo, X_train,  y_train,  cv=cv,   n_jobs = -1)\n",
    "                                                                                                                                              \n",
    "    # Cross-validation accuracy metric\n",
    "    acc_cv = round(metrics.accuracy_score(y_train, train_pred) * 100, 2)\n",
    "    \n",
    "    return train_pred, acc, acc_cv\n"
   ]
  },
  {
   "cell_type": "code",
   "execution_count": 61,
   "id": "069576b7",
   "metadata": {},
   "outputs": [
    {
     "name": "stdout",
     "output_type": "stream",
     "text": [
      "Accuracy: 94.26\n",
      "Accuracy CV 10-Fold: 94.07\n",
      "Running Time: 0:00:04.459274\n"
     ]
    }
   ],
   "source": [
    "# Logistic Regression\n",
    "start_time = time.time()\n",
    "train_pred_log, acc_log, acc_cv_log = fit_model(LogisticRegression(), X_train, y_train, 10)\n",
    "                                                                                                                                 \n",
    "log_time = (time.time() - start_time)\n",
    "print(\"Accuracy: %s\" % acc_log)\n",
    "print(\"Accuracy CV 10-Fold: %s\" % acc_cv_log)\n",
    "print(\"Running Time: %s\" % datetime.timedelta(seconds=log_time))"
   ]
  },
  {
   "cell_type": "code",
   "execution_count": 62,
   "id": "7fc33eea",
   "metadata": {},
   "outputs": [
    {
     "name": "stdout",
     "output_type": "stream",
     "text": [
      "Accuracy: 96.87\n",
      "Accuracy CV 10-Fold: 96.07\n",
      "Running Time: 0:00:02.023949\n"
     ]
    }
   ],
   "source": [
    "# k-Nearest Neighbours\n",
    "start_time = time.time()\n",
    "train_pred_knn, acc_knn, acc_cv_knn = fit_model(KNeighborsClassifier(), X_train, y_train, 10)  \n",
    "                                                  \n",
    "knn_time = (time.time() - start_time)\n",
    "print(\"Accuracy: %s\" % acc_knn)\n",
    "print(\"Accuracy CV 10-Fold: %s\" % acc_cv_knn)\n",
    "print(\"Running Time: %s\" % datetime.timedelta(seconds=knn_time))"
   ]
  },
  {
   "cell_type": "code",
   "execution_count": 63,
   "id": "e82de8fa",
   "metadata": {},
   "outputs": [
    {
     "name": "stdout",
     "output_type": "stream",
     "text": [
      "Accuracy: 44.56\n",
      "Accuracy CV 10-Fold: 44.56\n",
      "Running Time: 0:00:00.230558\n"
     ]
    }
   ],
   "source": [
    "# Gaussian Naive Bayes\n",
    "start_time = time.time()\n",
    "train_pred_gaussian, acc_gaussian, acc_cv_gaussian = fit_model(GaussianNB(), X_train, y_train, 10)  \n",
    "                                                  \n",
    "                                                                      \n",
    "gaussian_time = (time.time() - start_time)\n",
    "print(\"Accuracy: %s\" % acc_gaussian)\n",
    "print(\"Accuracy CV 10-Fold: %s\" % acc_cv_gaussian)\n",
    "print(\"Running Time: %s\" % datetime.timedelta(seconds=gaussian_time))"
   ]
  },
  {
   "cell_type": "code",
   "execution_count": 64,
   "id": "fb4c0b90",
   "metadata": {},
   "outputs": [
    {
     "name": "stdout",
     "output_type": "stream",
     "text": [
      "Accuracy: 94.81\n",
      "Accuracy CV 10-Fold: 94.47\n",
      "Running Time: 0:00:00.484521\n"
     ]
    }
   ],
   "source": [
    "# Linear SVC\n",
    "start_time = time.time()\n",
    "train_pred_svc, acc_linear_svc, acc_cv_linear_svc = fit_model(LinearSVC(), X_train, y_train, 10)\n",
    "                                                               \n",
    "linear_svc_time = (time.time() - start_time)\n",
    "print(\"Accuracy: %s\" % acc_linear_svc)\n",
    "print(\"Accuracy CV 10-Fold: %s\" % acc_cv_linear_svc)\n",
    "print(\"Running Time: %s\" % datetime.timedelta(seconds=linear_svc_time))"
   ]
  },
  {
   "cell_type": "code",
   "execution_count": 65,
   "id": "c8451177",
   "metadata": {},
   "outputs": [
    {
     "name": "stdout",
     "output_type": "stream",
     "text": [
      "Accuracy: 100.0\n",
      "Accuracy CV 10-Fold: 97.11\n",
      "Running Time: 0:00:00.346684\n"
     ]
    }
   ],
   "source": [
    "# Decision Tree Classifier\n",
    "start_time = time.time()\n",
    "train_pred_dt, acc_dt, acc_cv_dt = fit_model(DecisionTreeClassifier(), X_train, y_train, 10)\n",
    "                                                               \n",
    "dt_time = (time.time() - start_time)\n",
    "print(\"Accuracy: %s\" % acc_dt)\n",
    "print(\"Accuracy CV 10-Fold: %s\" % acc_cv_dt)\n",
    "print(\"Running Time: %s\" % datetime.timedelta(seconds=dt_time))"
   ]
  },
  {
   "cell_type": "code",
   "execution_count": 66,
   "id": "85b45a7d",
   "metadata": {},
   "outputs": [
    {
     "name": "stdout",
     "output_type": "stream",
     "text": [
      "Accuracy: 100.0\n",
      "Accuracy CV 10-Fold: 97.94\n",
      "Running Time: 0:00:03.452261\n"
     ]
    }
   ],
   "source": [
    "# Random Forest Classifier\n",
    "start_time = time.time()\n",
    "train_pred_rf, acc_rf, acc_cv_rf = fit_model(RandomForestClassifier(), X_train, y_train, 10)\n",
    "                                                               \n",
    "dt_time = (time.time() - start_time)\n",
    "print(\"Accuracy: %s\" % acc_rf)\n",
    "print(\"Accuracy CV 10-Fold: %s\" % acc_cv_rf)\n",
    "print(\"Running Time: %s\" % datetime.timedelta(seconds=dt_time))"
   ]
  },
  {
   "cell_type": "code",
   "execution_count": 67,
   "id": "fdaa922a",
   "metadata": {},
   "outputs": [
    {
     "name": "stdout",
     "output_type": "stream",
     "text": [
      "Accuracy: 98.53\n",
      "Accuracy CV 10-Fold: 97.54\n",
      "Running Time: 0:00:05.382799\n"
     ]
    }
   ],
   "source": [
    "# Gradient Boosting Trees\n",
    "start_time = time.time()\n",
    "train_pred_gbt, acc_gbt, acc_cv_gbt = fit_model(GradientBoostingClassifier(), X_train, y_train, 10)\n",
    "                                                                      \n",
    "gbt_time = (time.time() - start_time)\n",
    "print(\"Accuracy: %s\" % acc_gbt)\n",
    "print(\"Accuracy CV 10-Fold: %s\" % acc_cv_gbt)\n",
    "print(\"Running Time: %s\" % datetime.timedelta(seconds=gbt_time))"
   ]
  },
  {
   "cell_type": "code",
   "execution_count": 68,
   "id": "017681a7",
   "metadata": {},
   "outputs": [
    {
     "name": "stdout",
     "output_type": "stream",
     "text": [
      "Accuracy: 95.42\n",
      "Accuracy CV 10-Fold: 94.44\n",
      "Running Time: 0:00:00.318656\n"
     ]
    }
   ],
   "source": [
    "# Stochastic Gradient Descent\n",
    "start_time = time.time()\n",
    "train_pred_sgd, acc_sgd, acc_cv_sgd = fit_model(SGDClassifier(), X_train, y_train, 10)\n",
    "                                                 \n",
    "sgd_time = (time.time() - start_time)\n",
    "print(\"Accuracy: %s\" % acc_sgd)\n",
    "print(\"Accuracy CV 10-Fold: %s\" % acc_cv_sgd)\n",
    "print(\"Running Time: %s\" % datetime.timedelta(seconds=sgd_time))"
   ]
  },
  {
   "cell_type": "code",
   "execution_count": 69,
   "id": "a8c59183",
   "metadata": {},
   "outputs": [
    {
     "name": "stdout",
     "output_type": "stream",
     "text": [
      "Accuracy: 96.62\n",
      "Accuracy CV 10-Fold: 96.16\n",
      "Running Time: 0:00:04.318095\n"
     ]
    }
   ],
   "source": [
    "# Adaptive Gradient Boosting Trees\n",
    "start_time = time.time()\n",
    "train_pred_adagb, acc_adagb, acc_cv_adagb = fit_model(AdaBoostClassifier(), X_train, y_train, 10)\n",
    "                                                                      \n",
    "adagb_time = (time.time() - start_time)\n",
    "print(\"Accuracy: %s\" % acc_adagb)\n",
    "print(\"Accuracy CV 10-Fold: %s\" % acc_cv_adagb)\n",
    "print(\"Running Time: %s\" % datetime.timedelta(seconds = adagb_time))"
   ]
  },
  {
   "cell_type": "code",
   "execution_count": 70,
   "id": "525353e4",
   "metadata": {},
   "outputs": [
    {
     "name": "stdout",
     "output_type": "stream",
     "text": [
      "Accuracy: 98.56\n",
      "Accuracy CV 10-Fold: 97.57\n",
      "Running Time: 0:00:05.574832\n"
     ]
    }
   ],
   "source": [
    "# Extreme Gradient Boosting Trees\n",
    "start_time = time.time()\n",
    "train_pred_xgb, acc_xgb, acc_cv_xgb = fit_model(GradientBoostingClassifier(), X_train, y_train, 10)\n",
    "                                                                      \n",
    "xgb_time = (time.time() - start_time)\n",
    "print(\"Accuracy: %s\" % acc_xgb)\n",
    "print(\"Accuracy CV 10-Fold: %s\" % acc_cv_xgb)\n",
    "print(\"Running Time: %s\" % datetime.timedelta(seconds = xgb_time))"
   ]
  },
  {
   "cell_type": "markdown",
   "id": "30bd38ab",
   "metadata": {},
   "source": [
    "### Let's put these results in a nice dataframe"
   ]
  },
  {
   "cell_type": "code",
   "execution_count": 71,
   "id": "73e9e04d",
   "metadata": {},
   "outputs": [
    {
     "name": "stdout",
     "output_type": "stream",
     "text": [
      "---Reuglar Accuracy Scores---\n"
     ]
    },
    {
     "data": {
      "text/html": [
       "<div>\n",
       "<style scoped>\n",
       "    .dataframe tbody tr th:only-of-type {\n",
       "        vertical-align: middle;\n",
       "    }\n",
       "\n",
       "    .dataframe tbody tr th {\n",
       "        vertical-align: top;\n",
       "    }\n",
       "\n",
       "    .dataframe thead th {\n",
       "        text-align: right;\n",
       "    }\n",
       "</style>\n",
       "<table border=\"1\" class=\"dataframe\">\n",
       "  <thead>\n",
       "    <tr style=\"text-align: right;\">\n",
       "      <th></th>\n",
       "      <th>Model</th>\n",
       "      <th>Score</th>\n",
       "    </tr>\n",
       "  </thead>\n",
       "  <tbody>\n",
       "    <tr>\n",
       "      <th>4</th>\n",
       "      <td>Decision Tree Classifier</td>\n",
       "      <td>100.00</td>\n",
       "    </tr>\n",
       "    <tr>\n",
       "      <th>5</th>\n",
       "      <td>Random Forest Classifier</td>\n",
       "      <td>100.00</td>\n",
       "    </tr>\n",
       "    <tr>\n",
       "      <th>9</th>\n",
       "      <td>Extreme Gradient Boosting Trees (XGBoost)</td>\n",
       "      <td>98.56</td>\n",
       "    </tr>\n",
       "    <tr>\n",
       "      <th>6</th>\n",
       "      <td>Gradient Boosting Trees Classifier</td>\n",
       "      <td>98.53</td>\n",
       "    </tr>\n",
       "    <tr>\n",
       "      <th>1</th>\n",
       "      <td>K - Nearest Neighbour Classifier</td>\n",
       "      <td>96.87</td>\n",
       "    </tr>\n",
       "    <tr>\n",
       "      <th>8</th>\n",
       "      <td>Adaptive Gradient Boosting Trees Classifier (A...</td>\n",
       "      <td>96.62</td>\n",
       "    </tr>\n",
       "    <tr>\n",
       "      <th>7</th>\n",
       "      <td>Stochastic Gradient Descent Classifier</td>\n",
       "      <td>95.42</td>\n",
       "    </tr>\n",
       "    <tr>\n",
       "      <th>3</th>\n",
       "      <td>Linear Support Vector Classifier</td>\n",
       "      <td>94.81</td>\n",
       "    </tr>\n",
       "    <tr>\n",
       "      <th>0</th>\n",
       "      <td>Logistic Regression Classifier</td>\n",
       "      <td>94.26</td>\n",
       "    </tr>\n",
       "    <tr>\n",
       "      <th>2</th>\n",
       "      <td>Naive Bayes Classifier</td>\n",
       "      <td>44.56</td>\n",
       "    </tr>\n",
       "  </tbody>\n",
       "</table>\n",
       "</div>"
      ],
      "text/plain": [
       "                                               Model   Score\n",
       "4                           Decision Tree Classifier  100.00\n",
       "5                           Random Forest Classifier  100.00\n",
       "9          Extreme Gradient Boosting Trees (XGBoost)   98.56\n",
       "6                 Gradient Boosting Trees Classifier   98.53\n",
       "1                   K - Nearest Neighbour Classifier   96.87\n",
       "8  Adaptive Gradient Boosting Trees Classifier (A...   96.62\n",
       "7             Stochastic Gradient Descent Classifier   95.42\n",
       "3                   Linear Support Vector Classifier   94.81\n",
       "0                     Logistic Regression Classifier   94.26\n",
       "2                             Naive Bayes Classifier   44.56"
      ]
     },
     "execution_count": 71,
     "metadata": {},
     "output_type": "execute_result"
    }
   ],
   "source": [
    "\n",
    "models = pd.DataFrame({\n",
    "    'Model': ['Logistic Regression Classifier', 'K - Nearest Neighbour Classifier', 'Naive Bayes Classifier', \n",
    "              'Linear Support Vector Classifier',\n",
    "              'Decision Tree Classifier', 'Random Forest Classifier', 'Gradient Boosting Trees Classifier',\n",
    "              'Stochastic Gradient Descent Classifier', 'Adaptive Gradient Boosting Trees Classifier (AdaBoost)',\n",
    "              'Extreme Gradient Boosting Trees (XGBoost)'],\n",
    "    \n",
    "    'Score': [\n",
    "        acc_log, \n",
    "        acc_knn,  \n",
    "        acc_gaussian, \n",
    "        acc_linear_svc, \n",
    "        acc_dt,\n",
    "        acc_rf,\n",
    "        acc_gbt,\n",
    "        acc_sgd, \n",
    "        acc_adagb,\n",
    "        acc_xgb\n",
    "    ]})\n",
    "print(\"---Reuglar Accuracy Scores---\")\n",
    "models.sort_values(by='Score', ascending=False)"
   ]
  },
  {
   "cell_type": "code",
   "execution_count": 72,
   "id": "4c1c0144",
   "metadata": {},
   "outputs": [
    {
     "name": "stdout",
     "output_type": "stream",
     "text": [
      "---Cross-validation Accuracy Scores---\n"
     ]
    },
    {
     "data": {
      "text/html": [
       "<div>\n",
       "<style scoped>\n",
       "    .dataframe tbody tr th:only-of-type {\n",
       "        vertical-align: middle;\n",
       "    }\n",
       "\n",
       "    .dataframe tbody tr th {\n",
       "        vertical-align: top;\n",
       "    }\n",
       "\n",
       "    .dataframe thead th {\n",
       "        text-align: right;\n",
       "    }\n",
       "</style>\n",
       "<table border=\"1\" class=\"dataframe\">\n",
       "  <thead>\n",
       "    <tr style=\"text-align: right;\">\n",
       "      <th></th>\n",
       "      <th>Model</th>\n",
       "      <th>Score</th>\n",
       "    </tr>\n",
       "  </thead>\n",
       "  <tbody>\n",
       "    <tr>\n",
       "      <th>5</th>\n",
       "      <td>Random Forest Classifier</td>\n",
       "      <td>97.94</td>\n",
       "    </tr>\n",
       "    <tr>\n",
       "      <th>9</th>\n",
       "      <td>Extreme Gradient Boosting Trees (XGBoost)</td>\n",
       "      <td>97.57</td>\n",
       "    </tr>\n",
       "    <tr>\n",
       "      <th>6</th>\n",
       "      <td>Gradient Boosting Trees Classifier</td>\n",
       "      <td>97.54</td>\n",
       "    </tr>\n",
       "    <tr>\n",
       "      <th>4</th>\n",
       "      <td>Decision Tree Classifier</td>\n",
       "      <td>97.11</td>\n",
       "    </tr>\n",
       "    <tr>\n",
       "      <th>8</th>\n",
       "      <td>Adaptive Gradient Boosting Trees Classifier (A...</td>\n",
       "      <td>96.16</td>\n",
       "    </tr>\n",
       "    <tr>\n",
       "      <th>1</th>\n",
       "      <td>K - Nearest Neighbour Classifier</td>\n",
       "      <td>96.07</td>\n",
       "    </tr>\n",
       "    <tr>\n",
       "      <th>3</th>\n",
       "      <td>Linear Support Vector Classifier</td>\n",
       "      <td>94.47</td>\n",
       "    </tr>\n",
       "    <tr>\n",
       "      <th>7</th>\n",
       "      <td>Stochastic Gradient Descent Classifier</td>\n",
       "      <td>94.44</td>\n",
       "    </tr>\n",
       "    <tr>\n",
       "      <th>0</th>\n",
       "      <td>Logistic Regression Classifier</td>\n",
       "      <td>94.07</td>\n",
       "    </tr>\n",
       "    <tr>\n",
       "      <th>2</th>\n",
       "      <td>Naive Bayes Classifier</td>\n",
       "      <td>44.56</td>\n",
       "    </tr>\n",
       "  </tbody>\n",
       "</table>\n",
       "</div>"
      ],
      "text/plain": [
       "                                               Model  Score\n",
       "5                           Random Forest Classifier  97.94\n",
       "9          Extreme Gradient Boosting Trees (XGBoost)  97.57\n",
       "6                 Gradient Boosting Trees Classifier  97.54\n",
       "4                           Decision Tree Classifier  97.11\n",
       "8  Adaptive Gradient Boosting Trees Classifier (A...  96.16\n",
       "1                   K - Nearest Neighbour Classifier  96.07\n",
       "3                   Linear Support Vector Classifier  94.47\n",
       "7             Stochastic Gradient Descent Classifier  94.44\n",
       "0                     Logistic Regression Classifier  94.07\n",
       "2                             Naive Bayes Classifier  44.56"
      ]
     },
     "execution_count": 72,
     "metadata": {},
     "output_type": "execute_result"
    }
   ],
   "source": [
    "cv_models = pd.DataFrame({\n",
    "    'Model': ['Logistic Regression Classifier', 'K - Nearest Neighbour Classifier', 'Naive Bayes Classifier', \n",
    "              'Linear Support Vector Classifier',\n",
    "              'Decision Tree Classifier', 'Random Forest Classifier', 'Gradient Boosting Trees Classifier',\n",
    "              'Stochastic Gradient Descent Classifier', 'Adaptive Gradient Boosting Trees Classifier (AdaBoost)',\n",
    "              'Extreme Gradient Boosting Trees (XGBoost)'],\n",
    "    'Score': [\n",
    "        acc_cv_log, \n",
    "        acc_cv_knn,  \n",
    "        acc_cv_gaussian, \n",
    "        acc_cv_linear_svc, \n",
    "        acc_cv_dt,\n",
    "        acc_cv_rf,\n",
    "        acc_cv_gbt,\n",
    "        acc_cv_sgd, \n",
    "        acc_cv_adagb,\n",
    "        acc_cv_xgb\n",
    "    ]})\n",
    "print('---Cross-validation Accuracy Scores---')\n",
    "cv_models.sort_values(by='Score', ascending=False)"
   ]
  },
  {
   "cell_type": "markdown",
   "id": "7091aea4",
   "metadata": {},
   "source": [
    "**Conclusion** :\n",
    "* In case of an overfitted model (low bias and high variance): Pick up the best performing models from above, Run cross validations using gridsearch and perform hyperparameter optimization\n",
    "* Save the model as a pickle file and deploy it as a web serivce "
   ]
  },
  {
   "cell_type": "code",
   "execution_count": null,
   "id": "b4672c6d",
   "metadata": {},
   "outputs": [],
   "source": []
  }
 ],
 "metadata": {
  "kernelspec": {
   "display_name": "Python 3 (ipykernel)",
   "language": "python",
   "name": "python3"
  },
  "language_info": {
   "codemirror_mode": {
    "name": "ipython",
    "version": 3
   },
   "file_extension": ".py",
   "mimetype": "text/x-python",
   "name": "python",
   "nbconvert_exporter": "python",
   "pygments_lexer": "ipython3",
   "version": "3.9.12"
  }
 },
 "nbformat": 4,
 "nbformat_minor": 5
}
